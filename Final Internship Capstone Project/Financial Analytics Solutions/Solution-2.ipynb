{
 "cells": [
  {
   "cell_type": "code",
   "execution_count": 18,
   "metadata": {},
   "outputs": [],
   "source": [
    "import pandas as pd\n",
    "import plotly.express as px\n",
    "\n",
    "# Load the dataset\n",
    "data = pd.read_csv('/Users/manishghoshal/Downloads/Futurense_Internship-main/Final Internship Capstone Project/Financial Analytics/financialanalytics.csv')"
   ]
  },
  {
   "cell_type": "code",
   "execution_count": 19,
   "metadata": {},
   "outputs": [
    {
     "data": {
      "application/vnd.plotly.v1+json": {
       "config": {
        "plotlyServerURL": "https://plot.ly"
       },
       "data": [
        {
         "alignmentgroup": "True",
         "hovertemplate": "Company=C<br>Industry=%{x}<br>MarketCap=%{y}<extra></extra>",
         "legendgroup": "C",
         "marker": {
          "color": "#636efa",
          "pattern": {
           "shape": ""
          }
         },
         "name": "C",
         "offsetgroup": "C",
         "orientation": "v",
         "showlegend": true,
         "textposition": "auto",
         "type": "bar",
         "x": [
          "Technology",
          "Finance",
          "Finance",
          "Finance",
          "Healthcare",
          "Technology",
          "Finance",
          "Technology",
          "Technology",
          "Technology",
          "Finance",
          "Healthcare",
          "Technology",
          "Technology",
          "Healthcare",
          "Healthcare",
          "Healthcare",
          "Technology",
          "Finance",
          "Technology",
          "Technology",
          "Finance",
          "Healthcare",
          "Finance",
          "Finance",
          "Finance",
          "Technology",
          "Finance",
          "Technology",
          "Finance",
          "Finance",
          "Healthcare",
          "Finance",
          "Healthcare",
          "Finance",
          "Healthcare",
          "Finance",
          "Technology",
          "Healthcare",
          "Finance",
          "Finance",
          "Technology",
          "Technology",
          "Technology",
          "Finance",
          "Technology",
          "Healthcare",
          "Healthcare",
          "Finance",
          "Healthcare",
          "Technology",
          "Healthcare",
          "Finance",
          "Technology",
          "Finance",
          "Healthcare",
          "Finance",
          "Healthcare",
          "Technology",
          "Technology",
          "Finance",
          "Technology",
          "Healthcare",
          "Healthcare",
          "Healthcare",
          "Finance",
          "Technology",
          "Technology",
          "Finance",
          "Finance",
          "Technology",
          "Healthcare",
          "Healthcare",
          "Finance",
          "Finance",
          "Healthcare",
          "Healthcare",
          "Healthcare",
          "Technology",
          "Finance",
          "Finance",
          "Technology",
          "Healthcare",
          "Technology",
          "Technology",
          "Technology",
          "Technology",
          "Finance",
          "Finance",
          "Technology",
          "Technology",
          "Healthcare",
          "Healthcare",
          "Technology",
          "Technology",
          "Finance",
          "Technology",
          "Finance",
          "Technology",
          "Finance",
          "Finance",
          "Finance",
          "Finance",
          "Healthcare",
          "Technology",
          "Finance",
          "Healthcare",
          "Technology",
          "Healthcare",
          "Technology",
          "Technology",
          "Healthcare",
          "Technology",
          "Healthcare",
          "Technology",
          "Healthcare",
          "Healthcare",
          "Finance",
          "Healthcare",
          "Technology",
          "Healthcare",
          "Finance",
          "Technology",
          "Healthcare",
          "Healthcare",
          "Finance",
          "Technology",
          "Finance",
          "Healthcare",
          "Finance",
          "Healthcare",
          "Finance",
          "Healthcare",
          "Finance",
          "Technology",
          "Healthcare",
          "Healthcare",
          "Healthcare",
          "Finance",
          "Healthcare",
          "Technology",
          "Healthcare",
          "Healthcare",
          "Finance",
          "Healthcare",
          "Healthcare",
          "Healthcare",
          "Technology",
          "Technology",
          "Finance",
          "Healthcare",
          "Finance",
          "Finance",
          "Finance",
          "Finance",
          "Technology",
          "Technology",
          "Finance",
          "Healthcare",
          "Technology",
          "Technology",
          "Technology",
          "Healthcare",
          "Technology",
          "Healthcare",
          "Healthcare",
          "Finance",
          "Finance",
          "Finance",
          "Finance",
          "Finance",
          "Healthcare",
          "Finance",
          "Healthcare",
          "Technology",
          "Technology",
          "Technology",
          "Finance",
          "Finance",
          "Healthcare",
          "Technology",
          "Finance",
          "Healthcare",
          "Healthcare",
          "Healthcare",
          "Finance",
          "Finance",
          "Healthcare",
          "Technology",
          "Technology",
          "Healthcare",
          "Technology",
          "Technology",
          "Healthcare",
          "Finance",
          "Healthcare",
          "Technology",
          "Healthcare",
          "Technology",
          "Finance",
          "Healthcare",
          "Healthcare",
          "Healthcare",
          "Finance",
          "Technology",
          "Technology",
          "Technology",
          "Healthcare",
          "Finance",
          "Healthcare",
          "Finance",
          "Technology",
          "Healthcare",
          "Technology",
          "Healthcare",
          "Technology",
          "Healthcare",
          "Healthcare",
          "Healthcare",
          "Technology",
          "Healthcare",
          "Finance",
          "Technology",
          "Healthcare",
          "Healthcare",
          "Healthcare",
          "Technology",
          "Technology",
          "Healthcare",
          "Finance",
          "Technology",
          "Technology",
          "Technology",
          "Finance",
          "Technology",
          "Technology",
          "Healthcare",
          "Technology",
          "Finance",
          "Finance",
          "Finance",
          "Technology",
          "Finance",
          "Technology",
          "Finance",
          "Healthcare",
          "Finance",
          "Technology",
          "Healthcare",
          "Finance",
          "Finance",
          "Technology",
          "Healthcare",
          "Healthcare",
          "Finance",
          "Finance",
          "Healthcare",
          "Technology",
          "Technology",
          "Technology",
          "Technology",
          "Healthcare",
          "Technology"
         ],
         "xaxis": "x",
         "y": [
          88554112,
          59909374,
          16508937,
          41550187,
          62026309,
          38483683,
          3546402,
          1535809,
          37543977,
          49047059,
          66071446,
          8180004,
          4317238,
          26958155,
          36905608,
          33829495,
          93164955,
          3164583,
          48171839,
          81016428,
          89983011,
          75987436,
          99558937,
          93522314,
          83168491,
          70648623,
          68574297,
          43814679,
          94686473,
          32348674,
          82476909,
          23068524,
          66176734,
          66056657,
          15879762,
          53015653,
          55512836,
          67895450,
          30376799,
          33766247,
          29927196,
          95077324,
          65380890,
          81554286,
          24836265,
          33124589,
          88735487,
          2741787,
          32843576,
          38798843,
          2718816,
          45831025,
          24994090,
          59206394,
          51229329,
          93741455,
          4268647,
          56535383,
          50266364,
          64488252,
          27155642,
          50220196,
          23071433,
          82099687,
          40516717,
          2940553,
          20920496,
          8795212,
          13834119,
          88349793,
          75427839,
          57467418,
          38892868,
          88203991,
          11590545,
          31126130,
          16946471,
          30374780,
          95562255,
          99944263,
          91907122,
          15788594,
          33780160,
          22673347,
          40087253,
          98222581,
          39362462,
          86175729,
          99352615,
          23834762,
          4662037,
          99955661,
          35811752,
          60133028,
          47444269,
          3272197,
          38184723,
          99098302,
          42417040,
          87867728,
          50015859,
          3612586,
          15211776,
          92438819,
          58195916,
          18681989,
          61427541,
          78313070,
          44714972,
          25523319,
          74029736,
          90900273,
          83682702,
          76829512,
          24890052,
          44567660,
          44369548,
          3232431,
          87687891,
          16749291,
          91558251,
          3123424,
          95467098,
          35619943,
          67936038,
          73063780,
          7806537,
          12742002,
          21246160,
          21755571,
          89862502,
          72869068,
          72961463,
          61197614,
          82413322,
          56323485,
          94042124,
          97624122,
          44713875,
          13234639,
          25244965,
          97452624,
          98277960,
          18734483,
          89172383,
          20774093,
          48054079,
          13973524,
          48869081,
          9710761,
          27488580,
          75408592,
          32206706,
          8063613,
          13141871,
          42534540,
          68025483,
          33535342,
          45657483,
          64623900,
          96977474,
          43588698,
          38267012,
          53640380,
          87949871,
          33683046,
          90410214,
          2859267,
          87764529,
          68225181,
          39534094,
          75286717,
          46892077,
          48441322,
          59285387,
          62806513,
          48688553,
          39776927,
          19416843,
          7248160,
          84913071,
          49063409,
          72255074,
          59820117,
          24094893,
          41835455,
          28850534,
          10692933,
          32710088,
          62040610,
          93742276,
          62030232,
          55941333,
          22114200,
          60931167,
          63808695,
          8911824,
          75681034,
          90093883,
          79187921,
          90008581,
          78128929,
          41511795,
          74344933,
          26926533,
          19392828,
          6485066,
          59206309,
          38534235,
          73565085,
          17276101,
          37708263,
          74286706,
          65016354,
          87022920,
          27941410,
          50025390,
          9670980,
          77281385,
          41435608,
          18538197,
          12482699,
          93180013,
          55082676,
          76046315,
          96561337,
          72353422,
          45047491,
          51536941,
          45864699,
          44865902,
          56299848,
          53374957,
          43880734,
          95150851,
          65585510,
          13365330,
          12076962,
          77414288,
          54401625,
          31505570,
          32510297,
          72892769,
          65011017,
          76160414,
          7553859,
          76361660,
          28617832,
          63876546,
          63934511,
          47540207,
          41217948,
          15386329,
          78703907,
          90432010,
          95426897,
          93475415,
          95403773,
          99662741,
          99504031,
          26307559,
          1772011,
          5323027
         ],
         "yaxis": "y"
        },
        {
         "alignmentgroup": "True",
         "hovertemplate": "Company=A<br>Industry=%{x}<br>MarketCap=%{y}<extra></extra>",
         "legendgroup": "A",
         "marker": {
          "color": "#EF553B",
          "pattern": {
           "shape": ""
          }
         },
         "name": "A",
         "offsetgroup": "A",
         "orientation": "v",
         "showlegend": true,
         "textposition": "auto",
         "type": "bar",
         "x": [
          "Healthcare",
          "Healthcare",
          "Technology",
          "Finance",
          "Finance",
          "Finance",
          "Technology",
          "Technology",
          "Healthcare",
          "Technology",
          "Technology",
          "Healthcare",
          "Finance",
          "Healthcare",
          "Healthcare",
          "Finance",
          "Technology",
          "Healthcare",
          "Finance",
          "Healthcare",
          "Finance",
          "Finance",
          "Finance",
          "Technology",
          "Technology",
          "Finance",
          "Technology",
          "Healthcare",
          "Technology",
          "Technology",
          "Healthcare",
          "Technology",
          "Healthcare",
          "Finance",
          "Healthcare",
          "Technology",
          "Healthcare",
          "Finance",
          "Technology",
          "Healthcare",
          "Technology",
          "Finance",
          "Finance",
          "Healthcare",
          "Technology",
          "Finance",
          "Healthcare",
          "Technology",
          "Finance",
          "Technology",
          "Technology",
          "Healthcare",
          "Technology",
          "Healthcare",
          "Healthcare",
          "Finance",
          "Technology",
          "Healthcare",
          "Finance",
          "Technology",
          "Technology",
          "Technology",
          "Healthcare",
          "Finance",
          "Finance",
          "Finance",
          "Finance",
          "Technology",
          "Finance",
          "Technology",
          "Technology",
          "Finance",
          "Healthcare",
          "Finance",
          "Healthcare",
          "Finance",
          "Technology",
          "Finance",
          "Finance",
          "Technology",
          "Healthcare",
          "Technology",
          "Technology",
          "Finance",
          "Healthcare",
          "Finance",
          "Technology",
          "Healthcare",
          "Finance",
          "Technology",
          "Healthcare",
          "Finance",
          "Finance",
          "Technology",
          "Healthcare",
          "Finance",
          "Healthcare",
          "Technology",
          "Healthcare",
          "Finance",
          "Finance",
          "Healthcare",
          "Healthcare",
          "Technology",
          "Technology",
          "Healthcare",
          "Finance",
          "Technology",
          "Finance",
          "Finance",
          "Technology",
          "Healthcare",
          "Finance",
          "Healthcare",
          "Healthcare",
          "Healthcare",
          "Healthcare",
          "Technology",
          "Finance",
          "Finance",
          "Finance",
          "Healthcare",
          "Finance",
          "Healthcare",
          "Technology",
          "Healthcare",
          "Finance",
          "Technology",
          "Finance",
          "Healthcare",
          "Healthcare",
          "Healthcare",
          "Technology",
          "Finance",
          "Finance",
          "Finance",
          "Finance",
          "Technology",
          "Finance",
          "Healthcare",
          "Technology",
          "Technology",
          "Healthcare",
          "Healthcare",
          "Finance",
          "Technology",
          "Finance",
          "Technology",
          "Technology",
          "Finance",
          "Technology",
          "Technology",
          "Healthcare",
          "Healthcare",
          "Technology",
          "Finance",
          "Healthcare",
          "Technology",
          "Technology",
          "Healthcare",
          "Healthcare",
          "Technology",
          "Finance",
          "Finance",
          "Healthcare",
          "Healthcare",
          "Technology",
          "Finance",
          "Finance",
          "Technology",
          "Finance",
          "Technology",
          "Technology",
          "Healthcare",
          "Finance",
          "Technology",
          "Finance",
          "Finance",
          "Technology",
          "Healthcare",
          "Technology",
          "Healthcare",
          "Healthcare",
          "Healthcare",
          "Finance",
          "Technology",
          "Healthcare",
          "Healthcare",
          "Healthcare",
          "Healthcare",
          "Finance",
          "Technology",
          "Technology",
          "Healthcare",
          "Technology",
          "Technology",
          "Healthcare",
          "Technology",
          "Healthcare",
          "Finance",
          "Finance",
          "Technology",
          "Healthcare",
          "Healthcare",
          "Finance",
          "Healthcare",
          "Finance",
          "Technology",
          "Technology",
          "Healthcare",
          "Technology",
          "Technology",
          "Technology",
          "Healthcare",
          "Healthcare",
          "Technology",
          "Healthcare",
          "Healthcare",
          "Finance",
          "Finance",
          "Technology",
          "Healthcare",
          "Technology",
          "Finance",
          "Finance",
          "Finance",
          "Technology",
          "Healthcare",
          "Finance",
          "Finance",
          "Technology",
          "Healthcare",
          "Healthcare",
          "Technology",
          "Finance",
          "Healthcare",
          "Finance",
          "Technology"
         ],
         "xaxis": "x",
         "y": [
          20679648,
          6410502,
          97976434,
          24222729,
          48026498,
          21521554,
          67937082,
          38876832,
          38568751,
          32742955,
          81400766,
          91011049,
          10304769,
          61113048,
          79493493,
          99710982,
          75646740,
          50905661,
          67999311,
          77656973,
          86085866,
          38122487,
          9522351,
          4729368,
          71384846,
          74338390,
          67289851,
          94022002,
          52585647,
          37367164,
          21870465,
          46561410,
          62404635,
          11786360,
          16584894,
          42648591,
          69832029,
          97632309,
          34524616,
          85340212,
          34973421,
          53085302,
          4212145,
          21457116,
          64753237,
          88804079,
          35976238,
          32182864,
          47871825,
          81496496,
          40582959,
          82691196,
          59065853,
          43896675,
          12100039,
          75754488,
          87651548,
          55932400,
          74921357,
          34285800,
          17214940,
          8683882,
          2853086,
          40151230,
          3596026,
          6510350,
          3993569,
          89550573,
          60001093,
          89750203,
          59987125,
          12155919,
          73084030,
          50234647,
          65782851,
          87908721,
          86679686,
          60908400,
          56874379,
          70027261,
          39653295,
          23601680,
          46340217,
          90355705,
          16343101,
          10719005,
          66966209,
          2059730,
          80986732,
          16745891,
          58836352,
          74584015,
          25489965,
          36318504,
          26776077,
          75344244,
          97017864,
          25823233,
          56742885,
          73948496,
          60306367,
          23019929,
          75812598,
          56286744,
          39599658,
          94612081,
          66994364,
          60217702,
          91142633,
          77083356,
          58063811,
          42851276,
          72828347,
          64185333,
          25528691,
          42025764,
          70960167,
          60333204,
          56443575,
          14675873,
          83739237,
          63327517,
          11096173,
          74142580,
          75170260,
          50374950,
          25495154,
          11531755,
          91376889,
          52289190,
          9191889,
          29220304,
          28851064,
          45065467,
          38058266,
          10269883,
          45624030,
          90181926,
          19151261,
          30451051,
          18397914,
          5388168,
          45566716,
          24915462,
          71447008,
          56171134,
          92998745,
          27424148,
          68387371,
          84677946,
          66692008,
          4993039,
          48400844,
          52599746,
          57370623,
          10752033,
          1573026,
          22502458,
          90788337,
          63718134,
          38169683,
          82074005,
          29306035,
          67627206,
          90959213,
          54872724,
          85495866,
          83560235,
          77241580,
          77156083,
          71502414,
          95990049,
          89145352,
          3427888,
          85664081,
          21164559,
          20927602,
          76072054,
          54905144,
          40319172,
          79647977,
          89240853,
          26413159,
          38528429,
          78002199,
          19582890,
          50729282,
          26342161,
          45613779,
          93527874,
          32471025,
          96804554,
          72731425,
          96858695,
          54955493,
          28366083,
          71369509,
          83968552,
          17371722,
          40974446,
          62174122,
          83358294,
          50295533,
          97671556,
          70106234,
          44527125,
          15211127,
          68738954,
          46522181,
          44611207,
          29568456,
          59822500,
          76105543,
          37383439,
          35236445,
          11270014,
          65257138,
          25764307,
          58624841,
          94257747,
          11313412,
          98966744,
          73291139,
          88666943,
          15960608,
          7642664,
          94986429,
          30249233,
          48893772,
          76085158,
          18910510,
          31523215,
          20726050,
          26763709,
          88584657,
          42574955,
          85889165,
          14763015
         ],
         "yaxis": "y"
        },
        {
         "alignmentgroup": "True",
         "hovertemplate": "Company=B<br>Industry=%{x}<br>MarketCap=%{y}<extra></extra>",
         "legendgroup": "B",
         "marker": {
          "color": "#00cc96",
          "pattern": {
           "shape": ""
          }
         },
         "name": "B",
         "offsetgroup": "B",
         "orientation": "v",
         "showlegend": true,
         "textposition": "auto",
         "type": "bar",
         "x": [
          "Finance",
          "Healthcare",
          "Healthcare",
          "Healthcare",
          "Technology",
          "Finance",
          "Finance",
          "Technology",
          "Healthcare",
          "Finance",
          "Finance",
          "Technology",
          "Healthcare",
          "Technology",
          "Healthcare",
          "Healthcare",
          "Healthcare",
          "Technology",
          "Finance",
          "Technology",
          "Healthcare",
          "Healthcare",
          "Healthcare",
          "Finance",
          "Technology",
          "Finance",
          "Technology",
          "Healthcare",
          "Finance",
          "Healthcare",
          "Finance",
          "Finance",
          "Technology",
          "Healthcare",
          "Finance",
          "Technology",
          "Finance",
          "Healthcare",
          "Finance",
          "Technology",
          "Technology",
          "Finance",
          "Healthcare",
          "Finance",
          "Technology",
          "Finance",
          "Finance",
          "Technology",
          "Technology",
          "Healthcare",
          "Finance",
          "Technology",
          "Technology",
          "Healthcare",
          "Finance",
          "Finance",
          "Healthcare",
          "Technology",
          "Technology",
          "Finance",
          "Healthcare",
          "Technology",
          "Healthcare",
          "Finance",
          "Finance",
          "Healthcare",
          "Healthcare",
          "Finance",
          "Technology",
          "Finance",
          "Technology",
          "Healthcare",
          "Finance",
          "Healthcare",
          "Healthcare",
          "Technology",
          "Finance",
          "Finance",
          "Healthcare",
          "Healthcare",
          "Healthcare",
          "Technology",
          "Healthcare",
          "Finance",
          "Healthcare",
          "Finance",
          "Healthcare",
          "Technology",
          "Technology",
          "Healthcare",
          "Technology",
          "Finance",
          "Healthcare",
          "Technology",
          "Technology",
          "Finance",
          "Finance",
          "Technology",
          "Finance",
          "Finance",
          "Finance",
          "Finance",
          "Technology",
          "Healthcare",
          "Technology",
          "Healthcare",
          "Healthcare",
          "Technology",
          "Healthcare",
          "Finance",
          "Finance",
          "Finance",
          "Technology",
          "Finance",
          "Healthcare",
          "Healthcare",
          "Technology",
          "Finance",
          "Technology",
          "Healthcare",
          "Finance",
          "Finance",
          "Healthcare",
          "Finance",
          "Technology",
          "Finance",
          "Healthcare",
          "Healthcare",
          "Finance",
          "Finance",
          "Technology",
          "Finance",
          "Finance",
          "Finance",
          "Technology",
          "Finance",
          "Technology",
          "Finance",
          "Finance",
          "Finance",
          "Finance",
          "Finance",
          "Finance",
          "Healthcare",
          "Finance",
          "Finance",
          "Healthcare",
          "Finance",
          "Technology",
          "Healthcare",
          "Finance",
          "Finance",
          "Technology",
          "Technology",
          "Finance",
          "Finance",
          "Technology",
          "Healthcare",
          "Finance",
          "Healthcare",
          "Technology",
          "Finance",
          "Healthcare",
          "Finance",
          "Healthcare",
          "Finance",
          "Finance",
          "Finance",
          "Healthcare",
          "Healthcare",
          "Healthcare",
          "Finance",
          "Healthcare",
          "Technology",
          "Technology",
          "Finance",
          "Healthcare",
          "Technology",
          "Technology",
          "Technology",
          "Finance",
          "Finance",
          "Healthcare",
          "Technology",
          "Healthcare",
          "Healthcare",
          "Technology",
          "Technology",
          "Healthcare",
          "Finance",
          "Finance",
          "Finance",
          "Healthcare",
          "Technology",
          "Finance",
          "Healthcare",
          "Finance",
          "Technology",
          "Finance",
          "Healthcare",
          "Healthcare",
          "Technology",
          "Technology",
          "Finance",
          "Technology",
          "Technology",
          "Finance",
          "Technology",
          "Technology",
          "Technology",
          "Finance",
          "Finance",
          "Technology",
          "Finance",
          "Technology",
          "Healthcare",
          "Finance",
          "Finance",
          "Healthcare",
          "Finance",
          "Finance",
          "Technology",
          "Technology",
          "Finance",
          "Healthcare",
          "Healthcare",
          "Technology",
          "Healthcare",
          "Finance",
          "Finance",
          "Finance",
          "Healthcare",
          "Finance",
          "Technology",
          "Technology",
          "Healthcare",
          "Technology",
          "Technology",
          "Technology",
          "Healthcare",
          "Finance",
          "Healthcare"
         ],
         "xaxis": "x",
         "y": [
          31326134,
          51284178,
          57092689,
          41174967,
          33587876,
          47373963,
          62571030,
          98864843,
          71495660,
          84101104,
          9768626,
          90421892,
          77201849,
          46323496,
          42055206,
          31752194,
          5059134,
          91855587,
          58434787,
          2935963,
          39913475,
          52093250,
          22514125,
          87571180,
          64838469,
          71517324,
          74786459,
          38659349,
          46679435,
          39094703,
          62337312,
          22438044,
          43735979,
          95775857,
          88224340,
          39628239,
          67491509,
          49529055,
          58966080,
          5941299,
          88303307,
          67293105,
          43476481,
          8085210,
          77404116,
          64191625,
          46304088,
          75625604,
          51149128,
          32817677,
          62077613,
          62782042,
          33968371,
          50034638,
          78461702,
          86912422,
          22181826,
          48601070,
          17703547,
          39000425,
          69156442,
          36051559,
          1845871,
          44333263,
          45386366,
          96803390,
          27950651,
          58121714,
          99583087,
          79265960,
          36636033,
          75193521,
          73478329,
          75681210,
          19760449,
          36026504,
          70735824,
          49225852,
          41963349,
          65929170,
          43518632,
          21878712,
          43972717,
          34469874,
          42310080,
          79667134,
          40823676,
          40475706,
          5240715,
          69312672,
          86520091,
          42815083,
          31751525,
          37651991,
          40076769,
          38109658,
          49317012,
          69225815,
          5643545,
          23282347,
          5724653,
          68792052,
          57942500,
          89162874,
          32938581,
          22016882,
          26794593,
          94814292,
          69701344,
          16503564,
          82574772,
          50608743,
          94242955,
          92270997,
          26441982,
          1218309,
          72646334,
          61689093,
          31715549,
          26199382,
          55098956,
          79280476,
          65144539,
          66463096,
          90536320,
          40167142,
          68038951,
          7600580,
          78747216,
          11760661,
          3899432,
          4763254,
          80504343,
          59288286,
          50983605,
          80794675,
          42906735,
          7644130,
          69181103,
          94180773,
          53556988,
          65038011,
          96780573,
          67951406,
          43755521,
          32086895,
          16389501,
          47032973,
          88363105,
          83079406,
          16389159,
          15409039,
          69860149,
          27180909,
          53615758,
          67174514,
          41158311,
          88124219,
          55331943,
          16340584,
          58193238,
          29025692,
          31104144,
          54698144,
          22687392,
          82715999,
          67069603,
          47685624,
          68617970,
          76187096,
          42810749,
          50773232,
          80650509,
          99796215,
          87066810,
          31459720,
          25427992,
          23533134,
          26149787,
          38175335,
          78661092,
          52001401,
          16935546,
          67661127,
          93660411,
          36942206,
          67157243,
          53538542,
          33436880,
          86780627,
          97056221,
          19618320,
          19678302,
          52214890,
          81393556,
          85131557,
          85304198,
          35265951,
          33295088,
          81589616,
          7694984,
          46645133,
          27911073,
          85665772,
          9138407,
          88167152,
          27521509,
          92345134,
          62275527,
          25921711,
          93735965,
          65357262,
          87107376,
          89990074,
          73747552,
          24890874,
          59519657,
          69776070,
          57647723,
          10548055,
          22496479,
          16307435,
          66440267,
          87518516,
          97319134,
          77894805,
          93683276,
          83571626,
          43070582,
          96693873,
          97628473,
          33441632,
          66175973,
          48214187,
          8969284,
          98778636,
          65087559,
          32185570,
          59843182,
          84016967,
          51585506,
          40481042
         ],
         "yaxis": "y"
        },
        {
         "alignmentgroup": "True",
         "hovertemplate": "Company=D<br>Industry=%{x}<br>MarketCap=%{y}<extra></extra>",
         "legendgroup": "D",
         "marker": {
          "color": "#ab63fa",
          "pattern": {
           "shape": ""
          }
         },
         "name": "D",
         "offsetgroup": "D",
         "orientation": "v",
         "showlegend": true,
         "textposition": "auto",
         "type": "bar",
         "x": [
          "Technology",
          "Technology",
          "Technology",
          "Technology",
          "Technology",
          "Technology",
          "Technology",
          "Technology",
          "Technology",
          "Finance",
          "Healthcare",
          "Technology",
          "Technology",
          "Finance",
          "Finance",
          "Finance",
          "Finance",
          "Finance",
          "Healthcare",
          "Healthcare",
          "Finance",
          "Finance",
          "Finance",
          "Finance",
          "Technology",
          "Healthcare",
          "Healthcare",
          "Healthcare",
          "Healthcare",
          "Technology",
          "Technology",
          "Finance",
          "Technology",
          "Technology",
          "Finance",
          "Finance",
          "Technology",
          "Finance",
          "Healthcare",
          "Technology",
          "Technology",
          "Technology",
          "Technology",
          "Healthcare",
          "Technology",
          "Healthcare",
          "Healthcare",
          "Technology",
          "Healthcare",
          "Technology",
          "Finance",
          "Finance",
          "Finance",
          "Healthcare",
          "Healthcare",
          "Finance",
          "Healthcare",
          "Healthcare",
          "Technology",
          "Finance",
          "Finance",
          "Healthcare",
          "Finance",
          "Finance",
          "Technology",
          "Technology",
          "Finance",
          "Technology",
          "Finance",
          "Finance",
          "Finance",
          "Healthcare",
          "Finance",
          "Healthcare",
          "Healthcare",
          "Healthcare",
          "Finance",
          "Finance",
          "Finance",
          "Technology",
          "Technology",
          "Technology",
          "Healthcare",
          "Healthcare",
          "Healthcare",
          "Technology",
          "Finance",
          "Technology",
          "Healthcare",
          "Healthcare",
          "Healthcare",
          "Finance",
          "Healthcare",
          "Technology",
          "Technology",
          "Finance",
          "Finance",
          "Healthcare",
          "Finance",
          "Healthcare",
          "Healthcare",
          "Technology",
          "Healthcare",
          "Technology",
          "Technology",
          "Finance",
          "Healthcare",
          "Finance",
          "Technology",
          "Technology",
          "Healthcare",
          "Technology",
          "Technology",
          "Finance",
          "Technology",
          "Healthcare",
          "Healthcare",
          "Healthcare",
          "Finance",
          "Finance",
          "Technology",
          "Finance",
          "Healthcare",
          "Finance",
          "Healthcare",
          "Finance",
          "Technology",
          "Finance",
          "Healthcare",
          "Finance",
          "Healthcare",
          "Technology",
          "Finance",
          "Finance",
          "Technology",
          "Finance",
          "Healthcare",
          "Technology",
          "Healthcare",
          "Technology",
          "Technology",
          "Finance",
          "Finance",
          "Healthcare",
          "Healthcare",
          "Healthcare",
          "Technology",
          "Healthcare",
          "Healthcare",
          "Healthcare",
          "Technology",
          "Technology",
          "Healthcare",
          "Finance",
          "Technology",
          "Technology",
          "Healthcare",
          "Healthcare",
          "Technology",
          "Technology",
          "Technology",
          "Finance",
          "Technology",
          "Healthcare",
          "Finance",
          "Finance",
          "Finance",
          "Finance",
          "Healthcare",
          "Healthcare",
          "Technology",
          "Finance",
          "Finance",
          "Technology",
          "Finance",
          "Technology",
          "Technology",
          "Technology",
          "Finance",
          "Healthcare",
          "Healthcare",
          "Technology",
          "Healthcare",
          "Healthcare",
          "Healthcare",
          "Healthcare",
          "Finance",
          "Technology",
          "Finance",
          "Finance",
          "Finance",
          "Technology",
          "Technology",
          "Technology",
          "Healthcare",
          "Technology",
          "Healthcare",
          "Finance",
          "Finance",
          "Healthcare",
          "Technology",
          "Finance",
          "Healthcare",
          "Finance",
          "Technology",
          "Finance",
          "Healthcare",
          "Healthcare",
          "Healthcare",
          "Finance",
          "Healthcare",
          "Finance",
          "Healthcare",
          "Healthcare",
          "Technology",
          "Finance",
          "Healthcare",
          "Finance",
          "Healthcare",
          "Healthcare",
          "Technology",
          "Healthcare",
          "Technology",
          "Technology",
          "Healthcare",
          "Technology",
          "Finance",
          "Technology",
          "Healthcare",
          "Finance",
          "Technology",
          "Finance",
          "Finance",
          "Healthcare",
          "Technology",
          "Healthcare",
          "Finance",
          "Healthcare",
          "Healthcare",
          "Healthcare",
          "Healthcare",
          "Healthcare",
          "Finance",
          "Finance",
          "Finance",
          "Technology",
          "Technology",
          "Healthcare",
          "Finance",
          "Healthcare",
          "Technology",
          "Healthcare",
          "Technology",
          "Finance",
          "Healthcare",
          "Technology",
          "Technology"
         ],
         "xaxis": "x",
         "y": [
          81732093,
          5007012,
          45632936,
          79204782,
          82310160,
          33479337,
          56562877,
          46236639,
          19967098,
          33194270,
          19690644,
          1130992,
          87398133,
          43278629,
          23248298,
          15531073,
          81838449,
          31508140,
          63341967,
          47822738,
          50862829,
          79832527,
          16663611,
          77375141,
          54569389,
          10008211,
          10701358,
          49079659,
          2788452,
          15733860,
          99204851,
          1535906,
          78452860,
          1058185,
          42571146,
          67035769,
          35666388,
          93110755,
          42212706,
          68378134,
          50763174,
          37764547,
          65716474,
          97953438,
          4335765,
          14556585,
          64824044,
          33397058,
          26334476,
          28685558,
          57875909,
          91758671,
          98728312,
          3056669,
          80543745,
          79184934,
          3213389,
          82338445,
          60395517,
          58749094,
          5392596,
          58109080,
          20579043,
          49850883,
          12378097,
          67766493,
          26401179,
          92757173,
          87869669,
          94619618,
          73740916,
          81824381,
          72388468,
          29788541,
          26526754,
          81948007,
          48984949,
          10257111,
          77925655,
          17502185,
          90944951,
          69497594,
          81216807,
          57623707,
          66488441,
          70103842,
          90491478,
          48132443,
          78291306,
          38822589,
          16060579,
          43919075,
          82816241,
          91857710,
          93949900,
          10193778,
          8342356,
          65352896,
          24682196,
          69276609,
          57587741,
          35095217,
          90818553,
          44717128,
          48511703,
          90618366,
          21765290,
          67835501,
          31577261,
          85932678,
          27794167,
          44498964,
          97834636,
          7103244,
          24158728,
          60824881,
          28831834,
          90563303,
          33598730,
          35568049,
          23180462,
          66483343,
          5314164,
          36306405,
          39736169,
          11999102,
          2798080,
          44945432,
          74086672,
          31120239,
          57616073,
          42708435,
          52477548,
          1511913,
          95644600,
          77745342,
          81279663,
          27169358,
          36277780,
          47228050,
          76953948,
          92070266,
          85991883,
          95991335,
          3707474,
          74012017,
          47096093,
          21020098,
          32571856,
          65474922,
          16004073,
          7660345,
          37754556,
          12276515,
          81574733,
          13037946,
          42635573,
          22144439,
          20203932,
          55286837,
          84143408,
          21128386,
          66982947,
          9078254,
          9234711,
          81711521,
          23548895,
          69398269,
          58204830,
          21901911,
          10158296,
          35318746,
          40088945,
          39141271,
          10407556,
          70525738,
          39171443,
          88391746,
          73386925,
          33515217,
          61446576,
          47373731,
          85512394,
          80312788,
          89013665,
          74228745,
          90553212,
          27818254,
          10092013,
          1211535,
          23442964,
          7368236,
          26650441,
          31768892,
          81805340,
          68791122,
          12057833,
          44049894,
          61137849,
          94292567,
          87291991,
          96316463,
          51500547,
          12722683,
          70163282,
          77428396,
          95503935,
          95404054,
          78756491,
          96624605,
          91822390,
          6410735,
          68355311,
          78177654,
          21097671,
          29984244,
          79447688,
          69872379,
          52013099,
          46625144,
          49614747,
          40969233,
          21996340,
          68210984,
          72367983,
          78258906,
          42913569,
          31462109,
          29904542,
          73646109,
          96244091,
          5292509,
          11600468,
          45088675,
          56101818,
          38561054,
          7901896,
          56078948,
          3852469,
          32507116,
          91763316,
          40147734,
          33397079,
          87178109,
          33246661,
          42765320,
          23271220,
          73029298,
          52819501,
          82133625,
          89753959,
          60972082,
          75162873,
          83315117,
          47606740,
          79311073,
          16264644
         ],
         "yaxis": "y"
        }
       ],
       "layout": {
        "barmode": "group",
        "legend": {
         "title": {
          "text": "Company"
         },
         "tracegroupgap": 0
        },
        "template": {
         "data": {
          "bar": [
           {
            "error_x": {
             "color": "#2a3f5f"
            },
            "error_y": {
             "color": "#2a3f5f"
            },
            "marker": {
             "line": {
              "color": "#E5ECF6",
              "width": 0.5
             },
             "pattern": {
              "fillmode": "overlay",
              "size": 10,
              "solidity": 0.2
             }
            },
            "type": "bar"
           }
          ],
          "barpolar": [
           {
            "marker": {
             "line": {
              "color": "#E5ECF6",
              "width": 0.5
             },
             "pattern": {
              "fillmode": "overlay",
              "size": 10,
              "solidity": 0.2
             }
            },
            "type": "barpolar"
           }
          ],
          "carpet": [
           {
            "aaxis": {
             "endlinecolor": "#2a3f5f",
             "gridcolor": "white",
             "linecolor": "white",
             "minorgridcolor": "white",
             "startlinecolor": "#2a3f5f"
            },
            "baxis": {
             "endlinecolor": "#2a3f5f",
             "gridcolor": "white",
             "linecolor": "white",
             "minorgridcolor": "white",
             "startlinecolor": "#2a3f5f"
            },
            "type": "carpet"
           }
          ],
          "choropleth": [
           {
            "colorbar": {
             "outlinewidth": 0,
             "ticks": ""
            },
            "type": "choropleth"
           }
          ],
          "contour": [
           {
            "colorbar": {
             "outlinewidth": 0,
             "ticks": ""
            },
            "colorscale": [
             [
              0,
              "#0d0887"
             ],
             [
              0.1111111111111111,
              "#46039f"
             ],
             [
              0.2222222222222222,
              "#7201a8"
             ],
             [
              0.3333333333333333,
              "#9c179e"
             ],
             [
              0.4444444444444444,
              "#bd3786"
             ],
             [
              0.5555555555555556,
              "#d8576b"
             ],
             [
              0.6666666666666666,
              "#ed7953"
             ],
             [
              0.7777777777777778,
              "#fb9f3a"
             ],
             [
              0.8888888888888888,
              "#fdca26"
             ],
             [
              1,
              "#f0f921"
             ]
            ],
            "type": "contour"
           }
          ],
          "contourcarpet": [
           {
            "colorbar": {
             "outlinewidth": 0,
             "ticks": ""
            },
            "type": "contourcarpet"
           }
          ],
          "heatmap": [
           {
            "colorbar": {
             "outlinewidth": 0,
             "ticks": ""
            },
            "colorscale": [
             [
              0,
              "#0d0887"
             ],
             [
              0.1111111111111111,
              "#46039f"
             ],
             [
              0.2222222222222222,
              "#7201a8"
             ],
             [
              0.3333333333333333,
              "#9c179e"
             ],
             [
              0.4444444444444444,
              "#bd3786"
             ],
             [
              0.5555555555555556,
              "#d8576b"
             ],
             [
              0.6666666666666666,
              "#ed7953"
             ],
             [
              0.7777777777777778,
              "#fb9f3a"
             ],
             [
              0.8888888888888888,
              "#fdca26"
             ],
             [
              1,
              "#f0f921"
             ]
            ],
            "type": "heatmap"
           }
          ],
          "heatmapgl": [
           {
            "colorbar": {
             "outlinewidth": 0,
             "ticks": ""
            },
            "colorscale": [
             [
              0,
              "#0d0887"
             ],
             [
              0.1111111111111111,
              "#46039f"
             ],
             [
              0.2222222222222222,
              "#7201a8"
             ],
             [
              0.3333333333333333,
              "#9c179e"
             ],
             [
              0.4444444444444444,
              "#bd3786"
             ],
             [
              0.5555555555555556,
              "#d8576b"
             ],
             [
              0.6666666666666666,
              "#ed7953"
             ],
             [
              0.7777777777777778,
              "#fb9f3a"
             ],
             [
              0.8888888888888888,
              "#fdca26"
             ],
             [
              1,
              "#f0f921"
             ]
            ],
            "type": "heatmapgl"
           }
          ],
          "histogram": [
           {
            "marker": {
             "pattern": {
              "fillmode": "overlay",
              "size": 10,
              "solidity": 0.2
             }
            },
            "type": "histogram"
           }
          ],
          "histogram2d": [
           {
            "colorbar": {
             "outlinewidth": 0,
             "ticks": ""
            },
            "colorscale": [
             [
              0,
              "#0d0887"
             ],
             [
              0.1111111111111111,
              "#46039f"
             ],
             [
              0.2222222222222222,
              "#7201a8"
             ],
             [
              0.3333333333333333,
              "#9c179e"
             ],
             [
              0.4444444444444444,
              "#bd3786"
             ],
             [
              0.5555555555555556,
              "#d8576b"
             ],
             [
              0.6666666666666666,
              "#ed7953"
             ],
             [
              0.7777777777777778,
              "#fb9f3a"
             ],
             [
              0.8888888888888888,
              "#fdca26"
             ],
             [
              1,
              "#f0f921"
             ]
            ],
            "type": "histogram2d"
           }
          ],
          "histogram2dcontour": [
           {
            "colorbar": {
             "outlinewidth": 0,
             "ticks": ""
            },
            "colorscale": [
             [
              0,
              "#0d0887"
             ],
             [
              0.1111111111111111,
              "#46039f"
             ],
             [
              0.2222222222222222,
              "#7201a8"
             ],
             [
              0.3333333333333333,
              "#9c179e"
             ],
             [
              0.4444444444444444,
              "#bd3786"
             ],
             [
              0.5555555555555556,
              "#d8576b"
             ],
             [
              0.6666666666666666,
              "#ed7953"
             ],
             [
              0.7777777777777778,
              "#fb9f3a"
             ],
             [
              0.8888888888888888,
              "#fdca26"
             ],
             [
              1,
              "#f0f921"
             ]
            ],
            "type": "histogram2dcontour"
           }
          ],
          "mesh3d": [
           {
            "colorbar": {
             "outlinewidth": 0,
             "ticks": ""
            },
            "type": "mesh3d"
           }
          ],
          "parcoords": [
           {
            "line": {
             "colorbar": {
              "outlinewidth": 0,
              "ticks": ""
             }
            },
            "type": "parcoords"
           }
          ],
          "pie": [
           {
            "automargin": true,
            "type": "pie"
           }
          ],
          "scatter": [
           {
            "fillpattern": {
             "fillmode": "overlay",
             "size": 10,
             "solidity": 0.2
            },
            "type": "scatter"
           }
          ],
          "scatter3d": [
           {
            "line": {
             "colorbar": {
              "outlinewidth": 0,
              "ticks": ""
             }
            },
            "marker": {
             "colorbar": {
              "outlinewidth": 0,
              "ticks": ""
             }
            },
            "type": "scatter3d"
           }
          ],
          "scattercarpet": [
           {
            "marker": {
             "colorbar": {
              "outlinewidth": 0,
              "ticks": ""
             }
            },
            "type": "scattercarpet"
           }
          ],
          "scattergeo": [
           {
            "marker": {
             "colorbar": {
              "outlinewidth": 0,
              "ticks": ""
             }
            },
            "type": "scattergeo"
           }
          ],
          "scattergl": [
           {
            "marker": {
             "colorbar": {
              "outlinewidth": 0,
              "ticks": ""
             }
            },
            "type": "scattergl"
           }
          ],
          "scattermapbox": [
           {
            "marker": {
             "colorbar": {
              "outlinewidth": 0,
              "ticks": ""
             }
            },
            "type": "scattermapbox"
           }
          ],
          "scatterpolar": [
           {
            "marker": {
             "colorbar": {
              "outlinewidth": 0,
              "ticks": ""
             }
            },
            "type": "scatterpolar"
           }
          ],
          "scatterpolargl": [
           {
            "marker": {
             "colorbar": {
              "outlinewidth": 0,
              "ticks": ""
             }
            },
            "type": "scatterpolargl"
           }
          ],
          "scatterternary": [
           {
            "marker": {
             "colorbar": {
              "outlinewidth": 0,
              "ticks": ""
             }
            },
            "type": "scatterternary"
           }
          ],
          "surface": [
           {
            "colorbar": {
             "outlinewidth": 0,
             "ticks": ""
            },
            "colorscale": [
             [
              0,
              "#0d0887"
             ],
             [
              0.1111111111111111,
              "#46039f"
             ],
             [
              0.2222222222222222,
              "#7201a8"
             ],
             [
              0.3333333333333333,
              "#9c179e"
             ],
             [
              0.4444444444444444,
              "#bd3786"
             ],
             [
              0.5555555555555556,
              "#d8576b"
             ],
             [
              0.6666666666666666,
              "#ed7953"
             ],
             [
              0.7777777777777778,
              "#fb9f3a"
             ],
             [
              0.8888888888888888,
              "#fdca26"
             ],
             [
              1,
              "#f0f921"
             ]
            ],
            "type": "surface"
           }
          ],
          "table": [
           {
            "cells": {
             "fill": {
              "color": "#EBF0F8"
             },
             "line": {
              "color": "white"
             }
            },
            "header": {
             "fill": {
              "color": "#C8D4E3"
             },
             "line": {
              "color": "white"
             }
            },
            "type": "table"
           }
          ]
         },
         "layout": {
          "annotationdefaults": {
           "arrowcolor": "#2a3f5f",
           "arrowhead": 0,
           "arrowwidth": 1
          },
          "autotypenumbers": "strict",
          "coloraxis": {
           "colorbar": {
            "outlinewidth": 0,
            "ticks": ""
           }
          },
          "colorscale": {
           "diverging": [
            [
             0,
             "#8e0152"
            ],
            [
             0.1,
             "#c51b7d"
            ],
            [
             0.2,
             "#de77ae"
            ],
            [
             0.3,
             "#f1b6da"
            ],
            [
             0.4,
             "#fde0ef"
            ],
            [
             0.5,
             "#f7f7f7"
            ],
            [
             0.6,
             "#e6f5d0"
            ],
            [
             0.7,
             "#b8e186"
            ],
            [
             0.8,
             "#7fbc41"
            ],
            [
             0.9,
             "#4d9221"
            ],
            [
             1,
             "#276419"
            ]
           ],
           "sequential": [
            [
             0,
             "#0d0887"
            ],
            [
             0.1111111111111111,
             "#46039f"
            ],
            [
             0.2222222222222222,
             "#7201a8"
            ],
            [
             0.3333333333333333,
             "#9c179e"
            ],
            [
             0.4444444444444444,
             "#bd3786"
            ],
            [
             0.5555555555555556,
             "#d8576b"
            ],
            [
             0.6666666666666666,
             "#ed7953"
            ],
            [
             0.7777777777777778,
             "#fb9f3a"
            ],
            [
             0.8888888888888888,
             "#fdca26"
            ],
            [
             1,
             "#f0f921"
            ]
           ],
           "sequentialminus": [
            [
             0,
             "#0d0887"
            ],
            [
             0.1111111111111111,
             "#46039f"
            ],
            [
             0.2222222222222222,
             "#7201a8"
            ],
            [
             0.3333333333333333,
             "#9c179e"
            ],
            [
             0.4444444444444444,
             "#bd3786"
            ],
            [
             0.5555555555555556,
             "#d8576b"
            ],
            [
             0.6666666666666666,
             "#ed7953"
            ],
            [
             0.7777777777777778,
             "#fb9f3a"
            ],
            [
             0.8888888888888888,
             "#fdca26"
            ],
            [
             1,
             "#f0f921"
            ]
           ]
          },
          "colorway": [
           "#636efa",
           "#EF553B",
           "#00cc96",
           "#ab63fa",
           "#FFA15A",
           "#19d3f3",
           "#FF6692",
           "#B6E880",
           "#FF97FF",
           "#FECB52"
          ],
          "font": {
           "color": "#2a3f5f"
          },
          "geo": {
           "bgcolor": "white",
           "lakecolor": "white",
           "landcolor": "#E5ECF6",
           "showlakes": true,
           "showland": true,
           "subunitcolor": "white"
          },
          "hoverlabel": {
           "align": "left"
          },
          "hovermode": "closest",
          "mapbox": {
           "style": "light"
          },
          "paper_bgcolor": "white",
          "plot_bgcolor": "#E5ECF6",
          "polar": {
           "angularaxis": {
            "gridcolor": "white",
            "linecolor": "white",
            "ticks": ""
           },
           "bgcolor": "#E5ECF6",
           "radialaxis": {
            "gridcolor": "white",
            "linecolor": "white",
            "ticks": ""
           }
          },
          "scene": {
           "xaxis": {
            "backgroundcolor": "#E5ECF6",
            "gridcolor": "white",
            "gridwidth": 2,
            "linecolor": "white",
            "showbackground": true,
            "ticks": "",
            "zerolinecolor": "white"
           },
           "yaxis": {
            "backgroundcolor": "#E5ECF6",
            "gridcolor": "white",
            "gridwidth": 2,
            "linecolor": "white",
            "showbackground": true,
            "ticks": "",
            "zerolinecolor": "white"
           },
           "zaxis": {
            "backgroundcolor": "#E5ECF6",
            "gridcolor": "white",
            "gridwidth": 2,
            "linecolor": "white",
            "showbackground": true,
            "ticks": "",
            "zerolinecolor": "white"
           }
          },
          "shapedefaults": {
           "line": {
            "color": "#2a3f5f"
           }
          },
          "ternary": {
           "aaxis": {
            "gridcolor": "white",
            "linecolor": "white",
            "ticks": ""
           },
           "baxis": {
            "gridcolor": "white",
            "linecolor": "white",
            "ticks": ""
           },
           "bgcolor": "#E5ECF6",
           "caxis": {
            "gridcolor": "white",
            "linecolor": "white",
            "ticks": ""
           }
          },
          "title": {
           "x": 0.05
          },
          "xaxis": {
           "automargin": true,
           "gridcolor": "white",
           "linecolor": "white",
           "ticks": "",
           "title": {
            "standoff": 15
           },
           "zerolinecolor": "white",
           "zerolinewidth": 2
          },
          "yaxis": {
           "automargin": true,
           "gridcolor": "white",
           "linecolor": "white",
           "ticks": "",
           "title": {
            "standoff": 15
           },
           "zerolinecolor": "white",
           "zerolinewidth": 2
          }
         }
        },
        "title": {
         "text": "Comparison of Market Capitalization Across Industries"
        },
        "xaxis": {
         "anchor": "y",
         "domain": [
          0,
          1
         ],
         "title": {
          "text": "Industry"
         }
        },
        "yaxis": {
         "anchor": "x",
         "domain": [
          0,
          1
         ],
         "title": {
          "text": "MarketCap"
         }
        }
       }
      }
     },
     "metadata": {},
     "output_type": "display_data"
    }
   ],
   "source": [
    "# Compare the market capitalization of different companies in different industries\n",
    "\n",
    "fig = px.bar(data, x='Industry', y='MarketCap', color='Company',\n",
    "             title='Comparison of Market Capitalization Across Industries')\n",
    "fig.update_layout(barmode='group')  # Group bars for each industry\n",
    "fig.show()"
   ]
  },
  {
   "cell_type": "code",
   "execution_count": 20,
   "metadata": {},
   "outputs": [
    {
     "name": "stdout",
     "output_type": "stream",
     "text": [
      "Industry with the highest market capitalization: Healthcare\n",
      "Industry with the lowest market capitalization: Finance\n"
     ]
    }
   ],
   "source": [
    "# Identify the industry with the highest and lowest market capitalization\n",
    "\n",
    "highest_market_cap_industry = data.groupby('Industry')['MarketCap'].mean().idxmax()\n",
    "lowest_market_cap_industry = data.groupby('Industry')['MarketCap'].mean().idxmin()\n",
    "print(f\"Industry with the highest market capitalization: {highest_market_cap_industry}\")\n",
    "print(f\"Industry with the lowest market capitalization: {lowest_market_cap_industry}\")\n"
   ]
  },
  {
   "cell_type": "code",
   "execution_count": 21,
   "metadata": {},
   "outputs": [
    {
     "data": {
      "application/vnd.plotly.v1+json": {
       "config": {
        "plotlyServerURL": "https://plot.ly"
       },
       "data": [
        {
         "alignmentgroup": "True",
         "hovertemplate": "Industry=%{x}<br>MarketCap=%{y}<extra></extra>",
         "legendgroup": "",
         "marker": {
          "color": "#636efa"
         },
         "name": "",
         "notched": false,
         "offsetgroup": "",
         "orientation": "v",
         "showlegend": false,
         "type": "box",
         "x": [
          "Technology",
          "Healthcare",
          "Finance",
          "Healthcare",
          "Finance",
          "Finance",
          "Technology",
          "Technology",
          "Healthcare",
          "Finance",
          "Finance",
          "Finance",
          "Finance",
          "Technology",
          "Healthcare",
          "Technology",
          "Technology",
          "Finance",
          "Technology",
          "Healthcare",
          "Technology",
          "Technology",
          "Healthcare",
          "Technology",
          "Technology",
          "Healthcare",
          "Technology",
          "Healthcare",
          "Technology",
          "Technology",
          "Technology",
          "Technology",
          "Finance",
          "Technology",
          "Technology",
          "Healthcare",
          "Technology",
          "Technology",
          "Technology",
          "Technology",
          "Healthcare",
          "Finance",
          "Healthcare",
          "Finance",
          "Healthcare",
          "Finance",
          "Technology",
          "Finance",
          "Healthcare",
          "Technology",
          "Healthcare",
          "Healthcare",
          "Finance",
          "Finance",
          "Healthcare",
          "Technology",
          "Finance",
          "Finance",
          "Healthcare",
          "Finance",
          "Healthcare",
          "Technology",
          "Technology",
          "Finance",
          "Technology",
          "Technology",
          "Finance",
          "Finance",
          "Technology",
          "Healthcare",
          "Finance",
          "Finance",
          "Finance",
          "Technology",
          "Healthcare",
          "Healthcare",
          "Finance",
          "Healthcare",
          "Healthcare",
          "Technology",
          "Finance",
          "Technology",
          "Finance",
          "Finance",
          "Finance",
          "Technology",
          "Finance",
          "Finance",
          "Finance",
          "Technology",
          "Healthcare",
          "Technology",
          "Healthcare",
          "Technology",
          "Technology",
          "Healthcare",
          "Healthcare",
          "Finance",
          "Finance",
          "Finance",
          "Technology",
          "Technology",
          "Finance",
          "Finance",
          "Healthcare",
          "Healthcare",
          "Healthcare",
          "Healthcare",
          "Finance",
          "Finance",
          "Finance",
          "Technology",
          "Finance",
          "Technology",
          "Technology",
          "Healthcare",
          "Finance",
          "Healthcare",
          "Finance",
          "Healthcare",
          "Healthcare",
          "Healthcare",
          "Healthcare",
          "Finance",
          "Finance",
          "Technology",
          "Healthcare",
          "Healthcare",
          "Technology",
          "Technology",
          "Healthcare",
          "Technology",
          "Finance",
          "Technology",
          "Healthcare",
          "Finance",
          "Finance",
          "Technology",
          "Finance",
          "Technology",
          "Healthcare",
          "Technology",
          "Finance",
          "Finance",
          "Finance",
          "Healthcare",
          "Healthcare",
          "Finance",
          "Technology",
          "Technology",
          "Technology",
          "Finance",
          "Healthcare",
          "Technology",
          "Finance",
          "Finance",
          "Finance",
          "Technology",
          "Healthcare",
          "Technology",
          "Finance",
          "Technology",
          "Healthcare",
          "Finance",
          "Healthcare",
          "Technology",
          "Finance",
          "Finance",
          "Technology",
          "Technology",
          "Technology",
          "Technology",
          "Technology",
          "Technology",
          "Technology",
          "Healthcare",
          "Technology",
          "Finance",
          "Healthcare",
          "Finance",
          "Healthcare",
          "Healthcare",
          "Technology",
          "Healthcare",
          "Technology",
          "Technology",
          "Healthcare",
          "Healthcare",
          "Finance",
          "Finance",
          "Healthcare",
          "Finance",
          "Technology",
          "Technology",
          "Technology",
          "Healthcare",
          "Finance",
          "Healthcare",
          "Healthcare",
          "Technology",
          "Healthcare",
          "Technology",
          "Finance",
          "Finance",
          "Finance",
          "Technology",
          "Finance",
          "Technology",
          "Technology",
          "Finance",
          "Technology",
          "Finance",
          "Healthcare",
          "Finance",
          "Healthcare",
          "Healthcare",
          "Healthcare",
          "Technology",
          "Technology",
          "Technology",
          "Finance",
          "Healthcare",
          "Finance",
          "Technology",
          "Healthcare",
          "Finance",
          "Healthcare",
          "Healthcare",
          "Finance",
          "Healthcare",
          "Finance",
          "Finance",
          "Finance",
          "Healthcare",
          "Finance",
          "Technology",
          "Technology",
          "Finance",
          "Technology",
          "Technology",
          "Technology",
          "Finance",
          "Technology",
          "Finance",
          "Technology",
          "Healthcare",
          "Technology",
          "Healthcare",
          "Healthcare",
          "Finance",
          "Finance",
          "Finance",
          "Finance",
          "Healthcare",
          "Healthcare",
          "Finance",
          "Healthcare",
          "Finance",
          "Technology",
          "Finance",
          "Technology",
          "Technology",
          "Technology",
          "Healthcare",
          "Finance",
          "Healthcare",
          "Finance",
          "Technology",
          "Technology",
          "Finance",
          "Finance",
          "Finance",
          "Technology",
          "Finance",
          "Technology",
          "Finance",
          "Finance",
          "Finance",
          "Healthcare",
          "Finance",
          "Technology",
          "Technology",
          "Healthcare",
          "Technology",
          "Healthcare",
          "Finance",
          "Healthcare",
          "Healthcare",
          "Finance",
          "Finance",
          "Technology",
          "Finance",
          "Healthcare",
          "Healthcare",
          "Finance",
          "Finance",
          "Healthcare",
          "Technology",
          "Finance",
          "Healthcare",
          "Healthcare",
          "Healthcare",
          "Healthcare",
          "Healthcare",
          "Healthcare",
          "Finance",
          "Finance",
          "Finance",
          "Finance",
          "Finance",
          "Technology",
          "Technology",
          "Healthcare",
          "Finance",
          "Technology",
          "Technology",
          "Technology",
          "Healthcare",
          "Technology",
          "Healthcare",
          "Healthcare",
          "Healthcare",
          "Technology",
          "Finance",
          "Healthcare",
          "Technology",
          "Finance",
          "Technology",
          "Healthcare",
          "Healthcare",
          "Healthcare",
          "Technology",
          "Finance",
          "Finance",
          "Healthcare",
          "Technology",
          "Finance",
          "Technology",
          "Healthcare",
          "Finance",
          "Finance",
          "Technology",
          "Healthcare",
          "Finance",
          "Healthcare",
          "Finance",
          "Healthcare",
          "Healthcare",
          "Finance",
          "Technology",
          "Finance",
          "Finance",
          "Healthcare",
          "Healthcare",
          "Healthcare",
          "Technology",
          "Technology",
          "Finance",
          "Healthcare",
          "Finance",
          "Technology",
          "Healthcare",
          "Healthcare",
          "Technology",
          "Healthcare",
          "Technology",
          "Healthcare",
          "Technology",
          "Finance",
          "Healthcare",
          "Technology",
          "Finance",
          "Finance",
          "Technology",
          "Technology",
          "Finance",
          "Technology",
          "Healthcare",
          "Finance",
          "Technology",
          "Healthcare",
          "Healthcare",
          "Finance",
          "Healthcare",
          "Technology",
          "Technology",
          "Healthcare",
          "Healthcare",
          "Technology",
          "Healthcare",
          "Finance",
          "Technology",
          "Technology",
          "Technology",
          "Healthcare",
          "Finance",
          "Healthcare",
          "Finance",
          "Technology",
          "Technology",
          "Technology",
          "Technology",
          "Finance",
          "Healthcare",
          "Finance",
          "Technology",
          "Healthcare",
          "Finance",
          "Technology",
          "Finance",
          "Technology",
          "Technology",
          "Finance",
          "Finance",
          "Technology",
          "Finance",
          "Finance",
          "Technology",
          "Healthcare",
          "Technology",
          "Finance",
          "Finance",
          "Healthcare",
          "Finance",
          "Finance",
          "Finance",
          "Finance",
          "Healthcare",
          "Technology",
          "Technology",
          "Healthcare",
          "Finance",
          "Healthcare",
          "Finance",
          "Healthcare",
          "Healthcare",
          "Technology",
          "Technology",
          "Finance",
          "Healthcare",
          "Technology",
          "Healthcare",
          "Finance",
          "Healthcare",
          "Finance",
          "Healthcare",
          "Technology",
          "Healthcare",
          "Finance",
          "Technology",
          "Technology",
          "Technology",
          "Technology",
          "Healthcare",
          "Finance",
          "Healthcare",
          "Finance",
          "Technology",
          "Healthcare",
          "Technology",
          "Finance",
          "Healthcare",
          "Healthcare",
          "Technology",
          "Technology",
          "Finance",
          "Healthcare",
          "Healthcare",
          "Healthcare",
          "Finance",
          "Healthcare",
          "Finance",
          "Finance",
          "Healthcare",
          "Finance",
          "Healthcare",
          "Healthcare",
          "Technology",
          "Finance",
          "Healthcare",
          "Finance",
          "Technology",
          "Technology",
          "Finance",
          "Technology",
          "Finance",
          "Finance",
          "Healthcare",
          "Finance",
          "Technology",
          "Healthcare",
          "Finance",
          "Healthcare",
          "Technology",
          "Healthcare",
          "Healthcare",
          "Technology",
          "Finance",
          "Finance",
          "Healthcare",
          "Healthcare",
          "Healthcare",
          "Technology",
          "Finance",
          "Healthcare",
          "Technology",
          "Technology",
          "Healthcare",
          "Finance",
          "Finance",
          "Finance",
          "Finance",
          "Healthcare",
          "Healthcare",
          "Finance",
          "Healthcare",
          "Finance",
          "Finance",
          "Finance",
          "Finance",
          "Technology",
          "Technology",
          "Healthcare",
          "Finance",
          "Finance",
          "Finance",
          "Technology",
          "Technology",
          "Finance",
          "Healthcare",
          "Technology",
          "Healthcare",
          "Finance",
          "Technology",
          "Healthcare",
          "Finance",
          "Healthcare",
          "Finance",
          "Technology",
          "Healthcare",
          "Healthcare",
          "Technology",
          "Finance",
          "Technology",
          "Finance",
          "Healthcare",
          "Healthcare",
          "Healthcare",
          "Healthcare",
          "Finance",
          "Healthcare",
          "Finance",
          "Technology",
          "Technology",
          "Technology",
          "Healthcare",
          "Technology",
          "Finance",
          "Finance",
          "Healthcare",
          "Finance",
          "Finance",
          "Technology",
          "Technology",
          "Healthcare",
          "Healthcare",
          "Finance",
          "Healthcare",
          "Healthcare",
          "Technology",
          "Healthcare",
          "Finance",
          "Finance",
          "Healthcare",
          "Finance",
          "Healthcare",
          "Healthcare",
          "Finance",
          "Technology",
          "Healthcare",
          "Finance",
          "Healthcare",
          "Technology",
          "Technology",
          "Technology",
          "Technology",
          "Technology",
          "Healthcare",
          "Finance",
          "Healthcare",
          "Healthcare",
          "Healthcare",
          "Technology",
          "Finance",
          "Finance",
          "Technology",
          "Technology",
          "Finance",
          "Finance",
          "Technology",
          "Healthcare",
          "Technology",
          "Finance",
          "Healthcare",
          "Finance",
          "Healthcare",
          "Finance",
          "Healthcare",
          "Technology",
          "Technology",
          "Finance",
          "Finance",
          "Finance",
          "Healthcare",
          "Finance",
          "Finance",
          "Finance",
          "Finance",
          "Technology",
          "Healthcare",
          "Finance",
          "Healthcare",
          "Healthcare",
          "Technology",
          "Technology",
          "Technology",
          "Finance",
          "Finance",
          "Technology",
          "Finance",
          "Technology",
          "Healthcare",
          "Healthcare",
          "Healthcare",
          "Healthcare",
          "Technology",
          "Finance",
          "Finance",
          "Technology",
          "Finance",
          "Technology",
          "Technology",
          "Technology",
          "Technology",
          "Finance",
          "Finance",
          "Technology",
          "Healthcare",
          "Technology",
          "Technology",
          "Finance",
          "Technology",
          "Healthcare",
          "Finance",
          "Finance",
          "Finance",
          "Technology",
          "Technology",
          "Healthcare",
          "Finance",
          "Healthcare",
          "Technology",
          "Finance",
          "Technology",
          "Finance",
          "Healthcare",
          "Finance",
          "Finance",
          "Finance",
          "Healthcare",
          "Finance",
          "Healthcare",
          "Healthcare",
          "Healthcare",
          "Finance",
          "Finance",
          "Finance",
          "Technology",
          "Finance",
          "Technology",
          "Finance",
          "Healthcare",
          "Technology",
          "Healthcare",
          "Healthcare",
          "Technology",
          "Healthcare",
          "Finance",
          "Healthcare",
          "Finance",
          "Healthcare",
          "Healthcare",
          "Technology",
          "Finance",
          "Finance",
          "Technology",
          "Technology",
          "Technology",
          "Finance",
          "Finance",
          "Finance",
          "Finance",
          "Technology",
          "Finance",
          "Technology",
          "Healthcare",
          "Healthcare",
          "Technology",
          "Finance",
          "Healthcare",
          "Finance",
          "Healthcare",
          "Technology",
          "Healthcare",
          "Finance",
          "Healthcare",
          "Healthcare",
          "Finance",
          "Healthcare",
          "Healthcare",
          "Healthcare",
          "Technology",
          "Finance",
          "Healthcare",
          "Healthcare",
          "Healthcare",
          "Finance",
          "Healthcare",
          "Finance",
          "Technology",
          "Finance",
          "Finance",
          "Healthcare",
          "Technology",
          "Healthcare",
          "Technology",
          "Healthcare",
          "Technology",
          "Technology",
          "Technology",
          "Technology",
          "Healthcare",
          "Finance",
          "Healthcare",
          "Healthcare",
          "Healthcare",
          "Healthcare",
          "Technology",
          "Technology",
          "Technology",
          "Technology",
          "Finance",
          "Finance",
          "Technology",
          "Technology",
          "Healthcare",
          "Finance",
          "Finance",
          "Healthcare",
          "Healthcare",
          "Finance",
          "Healthcare",
          "Finance",
          "Technology",
          "Technology",
          "Finance",
          "Technology",
          "Healthcare",
          "Technology",
          "Technology",
          "Technology",
          "Healthcare",
          "Technology",
          "Finance",
          "Healthcare",
          "Healthcare",
          "Technology",
          "Technology",
          "Healthcare",
          "Finance",
          "Healthcare",
          "Healthcare",
          "Healthcare",
          "Healthcare",
          "Technology",
          "Technology",
          "Healthcare",
          "Finance",
          "Finance",
          "Technology",
          "Finance",
          "Technology",
          "Finance",
          "Healthcare",
          "Healthcare",
          "Technology",
          "Finance",
          "Finance",
          "Technology",
          "Healthcare",
          "Finance",
          "Finance",
          "Technology",
          "Finance",
          "Healthcare",
          "Technology",
          "Healthcare",
          "Technology",
          "Finance",
          "Healthcare",
          "Finance",
          "Healthcare",
          "Healthcare",
          "Finance",
          "Technology",
          "Healthcare",
          "Technology",
          "Finance",
          "Healthcare",
          "Technology",
          "Finance",
          "Finance",
          "Healthcare",
          "Healthcare",
          "Healthcare",
          "Technology",
          "Healthcare",
          "Technology",
          "Healthcare",
          "Healthcare",
          "Finance",
          "Finance",
          "Healthcare",
          "Healthcare",
          "Healthcare",
          "Healthcare",
          "Technology",
          "Finance",
          "Technology",
          "Healthcare",
          "Technology",
          "Healthcare",
          "Finance",
          "Finance",
          "Healthcare",
          "Healthcare",
          "Finance",
          "Technology",
          "Technology",
          "Technology",
          "Finance",
          "Technology",
          "Technology",
          "Healthcare",
          "Healthcare",
          "Finance",
          "Healthcare",
          "Technology",
          "Healthcare",
          "Healthcare",
          "Healthcare",
          "Finance",
          "Technology",
          "Healthcare",
          "Technology",
          "Technology",
          "Technology",
          "Technology",
          "Technology",
          "Technology",
          "Healthcare",
          "Healthcare",
          "Technology",
          "Healthcare",
          "Technology",
          "Finance",
          "Healthcare",
          "Technology",
          "Technology",
          "Technology",
          "Finance",
          "Finance",
          "Healthcare",
          "Healthcare",
          "Technology",
          "Technology",
          "Healthcare",
          "Technology",
          "Finance",
          "Technology",
          "Technology",
          "Technology",
          "Healthcare",
          "Finance",
          "Finance",
          "Finance",
          "Finance",
          "Finance",
          "Finance",
          "Technology",
          "Technology",
          "Healthcare",
          "Healthcare",
          "Technology",
          "Finance",
          "Healthcare",
          "Technology",
          "Finance",
          "Technology",
          "Finance",
          "Finance",
          "Finance",
          "Technology",
          "Technology",
          "Finance",
          "Technology",
          "Technology",
          "Finance",
          "Technology",
          "Finance",
          "Healthcare",
          "Finance",
          "Finance",
          "Finance",
          "Technology",
          "Finance",
          "Healthcare",
          "Healthcare",
          "Finance",
          "Healthcare",
          "Healthcare",
          "Finance",
          "Technology",
          "Finance",
          "Technology",
          "Healthcare",
          "Healthcare",
          "Technology",
          "Healthcare",
          "Technology",
          "Finance",
          "Healthcare",
          "Healthcare",
          "Healthcare",
          "Finance",
          "Finance",
          "Healthcare",
          "Finance",
          "Healthcare",
          "Healthcare",
          "Finance",
          "Healthcare",
          "Finance",
          "Finance",
          "Finance",
          "Finance",
          "Technology",
          "Finance",
          "Finance",
          "Healthcare",
          "Technology",
          "Technology",
          "Technology",
          "Technology",
          "Healthcare",
          "Finance",
          "Finance",
          "Healthcare",
          "Technology",
          "Finance",
          "Technology",
          "Healthcare",
          "Healthcare",
          "Technology",
          "Healthcare",
          "Finance",
          "Healthcare",
          "Healthcare",
          "Technology",
          "Technology",
          "Technology",
          "Technology",
          "Finance",
          "Healthcare",
          "Technology",
          "Healthcare",
          "Finance",
          "Technology",
          "Technology",
          "Healthcare",
          "Technology",
          "Finance",
          "Technology",
          "Healthcare",
          "Healthcare",
          "Technology",
          "Finance",
          "Healthcare",
          "Technology",
          "Technology"
         ],
         "x0": " ",
         "xaxis": "x",
         "y": [
          88554112,
          20679648,
          31326134,
          6410502,
          59909374,
          16508937,
          81732093,
          97976434,
          51284178,
          24222729,
          48026498,
          41550187,
          21521554,
          67937082,
          62026309,
          38483683,
          38876832,
          3546402,
          5007012,
          38568751,
          45632936,
          1535809,
          57092689,
          32742955,
          79204782,
          41174967,
          81400766,
          91011049,
          82310160,
          37543977,
          33479337,
          49047059,
          66071446,
          56562877,
          33587876,
          8180004,
          46236639,
          4317238,
          19967098,
          26958155,
          36905608,
          10304769,
          61113048,
          47373963,
          79493493,
          99710982,
          75646740,
          62571030,
          33829495,
          98864843,
          71495660,
          50905661,
          84101104,
          33194270,
          93164955,
          3164583,
          67999311,
          48171839,
          77656973,
          9768626,
          19690644,
          81016428,
          89983011,
          75987436,
          1130992,
          87398133,
          86085866,
          38122487,
          90421892,
          77201849,
          9522351,
          43278629,
          23248298,
          46323496,
          99558937,
          42055206,
          15531073,
          31752194,
          5059134,
          4729368,
          93522314,
          91855587,
          83168491,
          81838449,
          58434787,
          71384846,
          31508140,
          70648623,
          74338390,
          67289851,
          94022002,
          68574297,
          63341967,
          2935963,
          52585647,
          39913475,
          47822738,
          43814679,
          50862829,
          79832527,
          37367164,
          94686473,
          32348674,
          82476909,
          52093250,
          23068524,
          21870465,
          22514125,
          87571180,
          16663611,
          77375141,
          64838469,
          66176734,
          46561410,
          54569389,
          10008211,
          71517324,
          66056657,
          15879762,
          62404635,
          10701358,
          53015653,
          49079659,
          55512836,
          11786360,
          74786459,
          16584894,
          2788452,
          15733860,
          99204851,
          38659349,
          42648591,
          1535906,
          78452860,
          69832029,
          46679435,
          97632309,
          1058185,
          42571146,
          34524616,
          39094703,
          67895450,
          62337312,
          67035769,
          22438044,
          85340212,
          30376799,
          33766247,
          34973421,
          43735979,
          35666388,
          29927196,
          95775857,
          95077324,
          53085302,
          4212145,
          88224340,
          65380890,
          21457116,
          64753237,
          88804079,
          81554286,
          35976238,
          93110755,
          42212706,
          32182864,
          47871825,
          24836265,
          81496496,
          40582959,
          68378134,
          33124589,
          39628239,
          50763174,
          37764547,
          82691196,
          59065853,
          67491509,
          49529055,
          58966080,
          88735487,
          2741787,
          65716474,
          43896675,
          5941299,
          88303307,
          97953438,
          12100039,
          75754488,
          67293105,
          43476481,
          8085210,
          87651548,
          4335765,
          77404116,
          14556585,
          32843576,
          55932400,
          64824044,
          33397058,
          26334476,
          28685558,
          57875909,
          74921357,
          64191625,
          34285800,
          46304088,
          17214940,
          75625604,
          91758671,
          51149128,
          98728312,
          32817677,
          62077613,
          3056669,
          80543745,
          38798843,
          2718816,
          8683882,
          62782042,
          79184934,
          45831025,
          24994090,
          59206394,
          2853086,
          51229329,
          93741455,
          3213389,
          40151230,
          82338445,
          3596026,
          6510350,
          4268647,
          56535383,
          3993569,
          89550573,
          60395517,
          60001093,
          50266364,
          64488252,
          33968371,
          27155642,
          50220196,
          58749094,
          89750203,
          23071433,
          59987125,
          50034638,
          82099687,
          78461702,
          86912422,
          5392596,
          12155919,
          22181826,
          58109080,
          20579043,
          73084030,
          50234647,
          48601070,
          49850883,
          12378097,
          67766493,
          17703547,
          65782851,
          26401179,
          40516717,
          2940553,
          92757173,
          20920496,
          87908721,
          87869669,
          39000425,
          8795212,
          94619618,
          86679686,
          60908400,
          56874379,
          13834119,
          69156442,
          88349793,
          75427839,
          70027261,
          57467418,
          36051559,
          1845871,
          73740916,
          81824381,
          39653295,
          44333263,
          45386366,
          23601680,
          72388468,
          38892868,
          96803390,
          88203991,
          11590545,
          27950651,
          46340217,
          90355705,
          29788541,
          26526754,
          31126130,
          81948007,
          16946471,
          16343101,
          10719005,
          58121714,
          48984949,
          10257111,
          77925655,
          17502185,
          66966209,
          2059730,
          80986732,
          90944951,
          69497594,
          99583087,
          30374780,
          16745891,
          81216807,
          57623707,
          66488441,
          70103842,
          90491478,
          58836352,
          95562255,
          79265960,
          48132443,
          78291306,
          38822589,
          16060579,
          36636033,
          43919075,
          74584015,
          82816241,
          91857710,
          25489965,
          93949900,
          75193521,
          73478329,
          10193778,
          36318504,
          26776077,
          75344244,
          75681210,
          8342356,
          65352896,
          19760449,
          99944263,
          36026504,
          24682196,
          91907122,
          69276609,
          97017864,
          57587741,
          25823233,
          35095217,
          70735824,
          56742885,
          49225852,
          15788594,
          41963349,
          33780160,
          22673347,
          65929170,
          40087253,
          43518632,
          98222581,
          73948496,
          90818553,
          39362462,
          86175729,
          99352615,
          23834762,
          21878712,
          60306367,
          4662037,
          43972717,
          34469874,
          44717128,
          99955661,
          42310080,
          79667134,
          40823676,
          40475706,
          5240715,
          23019929,
          69312672,
          48511703,
          35811752,
          90618366,
          60133028,
          86520091,
          47444269,
          75812598,
          42815083,
          31751525,
          3272197,
          38184723,
          37651991,
          40076769,
          56286744,
          38109658,
          21765290,
          67835501,
          39599658,
          94612081,
          99098302,
          42417040,
          49317012,
          31577261,
          85932678,
          87867728,
          66994364,
          60217702,
          91142633,
          77083356,
          69225815,
          27794167,
          58063811,
          5643545,
          50015859,
          42851276,
          3612586,
          23282347,
          72828347,
          15211776,
          64185333,
          44498964,
          97834636,
          25528691,
          5724653,
          42025764,
          7103244,
          92438819,
          70960167,
          60333204,
          24158728,
          68792052,
          60824881,
          58195916,
          28831834,
          18681989,
          90563303,
          33598730,
          61427541,
          78313070,
          44714972,
          35568049,
          25523319,
          23180462,
          74029736,
          57942500,
          89162874,
          56443575,
          90900273,
          66483343,
          83682702,
          76829512,
          32938581,
          14675873,
          22016882,
          26794593,
          94814292,
          24890052,
          83739237,
          63327517,
          44567660,
          44369548,
          11096173,
          69701344,
          3232431,
          16503564,
          74142580,
          82574772,
          5314164,
          87687891,
          16749291,
          36306405,
          39736169,
          50608743,
          75170260,
          94242955,
          11999102,
          2798080,
          44945432,
          92270997,
          91558251,
          3123424,
          95467098,
          50374950,
          25495154,
          26441982,
          11531755,
          1218309,
          35619943,
          72646334,
          91376889,
          61689093,
          52289190,
          67936038,
          9191889,
          31715549,
          73063780,
          29220304,
          7806537,
          28851064,
          26199382,
          45065467,
          55098956,
          38058266,
          79280476,
          74086672,
          65144539,
          31120239,
          57616073,
          66463096,
          10269883,
          45624030,
          12742002,
          42708435,
          90536320,
          21246160,
          52477548,
          21755571,
          1511913,
          95644600,
          90181926,
          19151261,
          30451051,
          18397914,
          89862502,
          72869068,
          5388168,
          72961463,
          77745342,
          45566716,
          61197614,
          82413322,
          24915462,
          81279663,
          27169358,
          71447008,
          56171134,
          40167142,
          56323485,
          36277780,
          68038951,
          94042124,
          92998745,
          97624122,
          44713875,
          27424148,
          47228050,
          76953948,
          13234639,
          68387371,
          92070266,
          85991883,
          7600580,
          78747216,
          11760661,
          25244965,
          3899432,
          95991335,
          3707474,
          84677946,
          74012017,
          97452624,
          47096093,
          98277960,
          4763254,
          18734483,
          21020098,
          80504343,
          32571856,
          89172383,
          59288286,
          50983605,
          20774093,
          80794675,
          65474922,
          16004073,
          66692008,
          7660345,
          4993039,
          42906735,
          48054079,
          7644130,
          48400844,
          37754556,
          52599746,
          57370623,
          12276515,
          69181103,
          81574733,
          13973524,
          94180773,
          10752033,
          13037946,
          1573026,
          48869081,
          53556988,
          42635573,
          9710761,
          27488580,
          65038011,
          22144439,
          22502458,
          90788337,
          75408592,
          96780573,
          32206706,
          67951406,
          8063613,
          43755521,
          13141871,
          32086895,
          42534540,
          16389501,
          47032973,
          63718134,
          38169683,
          82074005,
          68025483,
          20203932,
          29306035,
          67627206,
          88363105,
          33535342,
          55286837,
          45657483,
          83079406,
          90959213,
          54872724,
          85495866,
          83560235,
          77241580,
          64623900,
          16389159,
          84143408,
          96977474,
          43588698,
          77156083,
          21128386,
          15409039,
          66982947,
          38267012,
          69860149,
          27180909,
          71502414,
          95990049,
          9078254,
          53615758,
          9234711,
          67174514,
          89145352,
          53640380,
          3427888,
          85664081,
          87949871,
          41158311,
          81711521,
          21164559,
          23548895,
          33683046,
          69398269,
          20927602,
          90410214,
          88124219,
          55331943,
          58204830,
          21901911,
          16340584,
          2859267,
          87764529,
          68225181,
          10158296,
          76072054,
          54905144,
          39534094,
          40319172,
          79647977,
          89240853,
          26413159,
          58193238,
          75286717,
          29025692,
          38528429,
          46892077,
          48441322,
          31104144,
          59285387,
          35318746,
          40088945,
          62806513,
          48688553,
          39141271,
          54698144,
          39776927,
          19416843,
          10407556,
          70525738,
          78002199,
          19582890,
          22687392,
          7248160,
          84913071,
          82715999,
          50729282,
          49063409,
          72255074,
          39171443,
          59820117,
          67069603,
          26342161,
          45613779,
          47685624,
          68617970,
          76187096,
          93527874,
          88391746,
          73386925,
          24094893,
          33515217,
          61446576,
          41835455,
          42810749,
          32471025,
          47373731,
          50773232,
          28850534,
          85512394,
          96804554,
          10692933,
          32710088,
          80650509,
          72731425,
          99796215,
          87066810,
          62040610,
          80312788,
          31459720,
          93742276,
          25427992,
          89013665,
          74228745,
          62030232,
          23533134,
          26149787,
          38175335,
          90553212,
          78661092,
          55941333,
          27818254,
          22114200,
          60931167,
          52001401,
          96858695,
          16935546,
          10092013,
          63808695,
          1211535,
          54955493,
          8911824,
          23442964,
          67661127,
          75681034,
          28366083,
          7368236,
          90093883,
          71369509,
          83968552,
          79187921,
          90008581,
          17371722,
          26650441,
          31768892,
          93660411,
          40974446,
          81805340,
          36942206,
          78128929,
          41511795,
          67157243,
          68791122,
          12057833,
          62174122,
          74344933,
          53538542,
          44049894,
          26926533,
          61137849,
          94292567,
          33436880,
          87291991,
          86780627,
          96316463,
          19392828,
          51500547,
          97056221,
          19618320,
          6485066,
          12722683,
          19678302,
          83358294,
          59206309,
          52214890,
          38534235,
          73565085,
          81393556,
          85131557,
          50295533,
          17276101,
          37708263,
          97671556,
          70163282,
          70106234,
          74286706,
          65016354,
          77428396,
          85304198,
          87022920,
          95503935,
          95404054,
          35265951,
          44527125,
          27941410,
          50025390,
          78756491,
          96624605,
          33295088,
          9670980,
          81589616,
          77281385,
          7694984,
          41435608,
          15211127,
          46645133,
          91822390,
          27911073,
          18538197,
          12482699,
          6410735,
          68355311,
          78177654,
          85665772,
          9138407,
          93180013,
          21097671,
          29984244,
          68738954,
          46522181,
          55082676,
          79447688,
          69872379,
          76046315,
          88167152,
          44611207,
          96561337,
          52013099,
          27521509,
          72353422,
          46625144,
          29568456,
          49614747,
          92345134,
          62275527,
          59822500,
          45047491,
          51536941,
          40969233,
          76105543,
          37383439,
          21996340,
          45864699,
          35236445,
          68210984,
          11270014,
          25921711,
          93735965,
          65357262,
          65257138,
          72367983,
          78258906,
          44865902,
          25764307,
          87107376,
          89990074,
          56299848,
          53374957,
          73747552,
          24890874,
          42913569,
          58624841,
          59519657,
          69776070,
          94257747,
          43880734,
          95150851,
          31462109,
          57647723,
          29904542,
          65585510,
          10548055,
          13365330,
          12076962,
          77414288,
          11313412,
          54401625,
          22496479,
          73646109,
          16307435,
          96244091,
          31505570,
          66440267,
          32510297,
          72892769,
          65011017,
          76160414,
          7553859,
          5292509,
          76361660,
          11600468,
          28617832,
          87518516,
          97319134,
          63876546,
          63934511,
          98966744,
          77894805,
          47540207,
          73291139,
          88666943,
          41217948,
          45088675,
          15386329,
          56101818,
          38561054,
          93683276,
          7901896,
          83571626,
          56078948,
          78703907,
          43070582,
          15960608,
          3852469,
          7642664,
          32507116,
          91763316,
          90432010,
          40147734,
          33397079,
          87178109,
          96693873,
          33246661,
          94986429,
          95426897,
          97628473,
          93475415,
          95403773,
          99662741,
          42765320,
          23271220,
          30249233,
          48893772,
          76085158,
          73029298,
          99504031,
          52819501,
          18910510,
          31523215,
          82133625,
          89753959,
          33441632,
          66175973,
          20726050,
          60972082,
          48214187,
          8969284,
          26763709,
          75162873,
          88584657,
          98778636,
          26307559,
          1772011,
          83315117,
          65087559,
          5323027,
          42574955,
          32185570,
          85889165,
          59843182,
          84016967,
          47606740,
          14763015,
          51585506,
          40481042,
          79311073,
          16264644
         ],
         "y0": " ",
         "yaxis": "y"
        }
       ],
       "layout": {
        "boxmode": "group",
        "legend": {
         "tracegroupgap": 0
        },
        "template": {
         "data": {
          "bar": [
           {
            "error_x": {
             "color": "#2a3f5f"
            },
            "error_y": {
             "color": "#2a3f5f"
            },
            "marker": {
             "line": {
              "color": "#E5ECF6",
              "width": 0.5
             },
             "pattern": {
              "fillmode": "overlay",
              "size": 10,
              "solidity": 0.2
             }
            },
            "type": "bar"
           }
          ],
          "barpolar": [
           {
            "marker": {
             "line": {
              "color": "#E5ECF6",
              "width": 0.5
             },
             "pattern": {
              "fillmode": "overlay",
              "size": 10,
              "solidity": 0.2
             }
            },
            "type": "barpolar"
           }
          ],
          "carpet": [
           {
            "aaxis": {
             "endlinecolor": "#2a3f5f",
             "gridcolor": "white",
             "linecolor": "white",
             "minorgridcolor": "white",
             "startlinecolor": "#2a3f5f"
            },
            "baxis": {
             "endlinecolor": "#2a3f5f",
             "gridcolor": "white",
             "linecolor": "white",
             "minorgridcolor": "white",
             "startlinecolor": "#2a3f5f"
            },
            "type": "carpet"
           }
          ],
          "choropleth": [
           {
            "colorbar": {
             "outlinewidth": 0,
             "ticks": ""
            },
            "type": "choropleth"
           }
          ],
          "contour": [
           {
            "colorbar": {
             "outlinewidth": 0,
             "ticks": ""
            },
            "colorscale": [
             [
              0,
              "#0d0887"
             ],
             [
              0.1111111111111111,
              "#46039f"
             ],
             [
              0.2222222222222222,
              "#7201a8"
             ],
             [
              0.3333333333333333,
              "#9c179e"
             ],
             [
              0.4444444444444444,
              "#bd3786"
             ],
             [
              0.5555555555555556,
              "#d8576b"
             ],
             [
              0.6666666666666666,
              "#ed7953"
             ],
             [
              0.7777777777777778,
              "#fb9f3a"
             ],
             [
              0.8888888888888888,
              "#fdca26"
             ],
             [
              1,
              "#f0f921"
             ]
            ],
            "type": "contour"
           }
          ],
          "contourcarpet": [
           {
            "colorbar": {
             "outlinewidth": 0,
             "ticks": ""
            },
            "type": "contourcarpet"
           }
          ],
          "heatmap": [
           {
            "colorbar": {
             "outlinewidth": 0,
             "ticks": ""
            },
            "colorscale": [
             [
              0,
              "#0d0887"
             ],
             [
              0.1111111111111111,
              "#46039f"
             ],
             [
              0.2222222222222222,
              "#7201a8"
             ],
             [
              0.3333333333333333,
              "#9c179e"
             ],
             [
              0.4444444444444444,
              "#bd3786"
             ],
             [
              0.5555555555555556,
              "#d8576b"
             ],
             [
              0.6666666666666666,
              "#ed7953"
             ],
             [
              0.7777777777777778,
              "#fb9f3a"
             ],
             [
              0.8888888888888888,
              "#fdca26"
             ],
             [
              1,
              "#f0f921"
             ]
            ],
            "type": "heatmap"
           }
          ],
          "heatmapgl": [
           {
            "colorbar": {
             "outlinewidth": 0,
             "ticks": ""
            },
            "colorscale": [
             [
              0,
              "#0d0887"
             ],
             [
              0.1111111111111111,
              "#46039f"
             ],
             [
              0.2222222222222222,
              "#7201a8"
             ],
             [
              0.3333333333333333,
              "#9c179e"
             ],
             [
              0.4444444444444444,
              "#bd3786"
             ],
             [
              0.5555555555555556,
              "#d8576b"
             ],
             [
              0.6666666666666666,
              "#ed7953"
             ],
             [
              0.7777777777777778,
              "#fb9f3a"
             ],
             [
              0.8888888888888888,
              "#fdca26"
             ],
             [
              1,
              "#f0f921"
             ]
            ],
            "type": "heatmapgl"
           }
          ],
          "histogram": [
           {
            "marker": {
             "pattern": {
              "fillmode": "overlay",
              "size": 10,
              "solidity": 0.2
             }
            },
            "type": "histogram"
           }
          ],
          "histogram2d": [
           {
            "colorbar": {
             "outlinewidth": 0,
             "ticks": ""
            },
            "colorscale": [
             [
              0,
              "#0d0887"
             ],
             [
              0.1111111111111111,
              "#46039f"
             ],
             [
              0.2222222222222222,
              "#7201a8"
             ],
             [
              0.3333333333333333,
              "#9c179e"
             ],
             [
              0.4444444444444444,
              "#bd3786"
             ],
             [
              0.5555555555555556,
              "#d8576b"
             ],
             [
              0.6666666666666666,
              "#ed7953"
             ],
             [
              0.7777777777777778,
              "#fb9f3a"
             ],
             [
              0.8888888888888888,
              "#fdca26"
             ],
             [
              1,
              "#f0f921"
             ]
            ],
            "type": "histogram2d"
           }
          ],
          "histogram2dcontour": [
           {
            "colorbar": {
             "outlinewidth": 0,
             "ticks": ""
            },
            "colorscale": [
             [
              0,
              "#0d0887"
             ],
             [
              0.1111111111111111,
              "#46039f"
             ],
             [
              0.2222222222222222,
              "#7201a8"
             ],
             [
              0.3333333333333333,
              "#9c179e"
             ],
             [
              0.4444444444444444,
              "#bd3786"
             ],
             [
              0.5555555555555556,
              "#d8576b"
             ],
             [
              0.6666666666666666,
              "#ed7953"
             ],
             [
              0.7777777777777778,
              "#fb9f3a"
             ],
             [
              0.8888888888888888,
              "#fdca26"
             ],
             [
              1,
              "#f0f921"
             ]
            ],
            "type": "histogram2dcontour"
           }
          ],
          "mesh3d": [
           {
            "colorbar": {
             "outlinewidth": 0,
             "ticks": ""
            },
            "type": "mesh3d"
           }
          ],
          "parcoords": [
           {
            "line": {
             "colorbar": {
              "outlinewidth": 0,
              "ticks": ""
             }
            },
            "type": "parcoords"
           }
          ],
          "pie": [
           {
            "automargin": true,
            "type": "pie"
           }
          ],
          "scatter": [
           {
            "fillpattern": {
             "fillmode": "overlay",
             "size": 10,
             "solidity": 0.2
            },
            "type": "scatter"
           }
          ],
          "scatter3d": [
           {
            "line": {
             "colorbar": {
              "outlinewidth": 0,
              "ticks": ""
             }
            },
            "marker": {
             "colorbar": {
              "outlinewidth": 0,
              "ticks": ""
             }
            },
            "type": "scatter3d"
           }
          ],
          "scattercarpet": [
           {
            "marker": {
             "colorbar": {
              "outlinewidth": 0,
              "ticks": ""
             }
            },
            "type": "scattercarpet"
           }
          ],
          "scattergeo": [
           {
            "marker": {
             "colorbar": {
              "outlinewidth": 0,
              "ticks": ""
             }
            },
            "type": "scattergeo"
           }
          ],
          "scattergl": [
           {
            "marker": {
             "colorbar": {
              "outlinewidth": 0,
              "ticks": ""
             }
            },
            "type": "scattergl"
           }
          ],
          "scattermapbox": [
           {
            "marker": {
             "colorbar": {
              "outlinewidth": 0,
              "ticks": ""
             }
            },
            "type": "scattermapbox"
           }
          ],
          "scatterpolar": [
           {
            "marker": {
             "colorbar": {
              "outlinewidth": 0,
              "ticks": ""
             }
            },
            "type": "scatterpolar"
           }
          ],
          "scatterpolargl": [
           {
            "marker": {
             "colorbar": {
              "outlinewidth": 0,
              "ticks": ""
             }
            },
            "type": "scatterpolargl"
           }
          ],
          "scatterternary": [
           {
            "marker": {
             "colorbar": {
              "outlinewidth": 0,
              "ticks": ""
             }
            },
            "type": "scatterternary"
           }
          ],
          "surface": [
           {
            "colorbar": {
             "outlinewidth": 0,
             "ticks": ""
            },
            "colorscale": [
             [
              0,
              "#0d0887"
             ],
             [
              0.1111111111111111,
              "#46039f"
             ],
             [
              0.2222222222222222,
              "#7201a8"
             ],
             [
              0.3333333333333333,
              "#9c179e"
             ],
             [
              0.4444444444444444,
              "#bd3786"
             ],
             [
              0.5555555555555556,
              "#d8576b"
             ],
             [
              0.6666666666666666,
              "#ed7953"
             ],
             [
              0.7777777777777778,
              "#fb9f3a"
             ],
             [
              0.8888888888888888,
              "#fdca26"
             ],
             [
              1,
              "#f0f921"
             ]
            ],
            "type": "surface"
           }
          ],
          "table": [
           {
            "cells": {
             "fill": {
              "color": "#EBF0F8"
             },
             "line": {
              "color": "white"
             }
            },
            "header": {
             "fill": {
              "color": "#C8D4E3"
             },
             "line": {
              "color": "white"
             }
            },
            "type": "table"
           }
          ]
         },
         "layout": {
          "annotationdefaults": {
           "arrowcolor": "#2a3f5f",
           "arrowhead": 0,
           "arrowwidth": 1
          },
          "autotypenumbers": "strict",
          "coloraxis": {
           "colorbar": {
            "outlinewidth": 0,
            "ticks": ""
           }
          },
          "colorscale": {
           "diverging": [
            [
             0,
             "#8e0152"
            ],
            [
             0.1,
             "#c51b7d"
            ],
            [
             0.2,
             "#de77ae"
            ],
            [
             0.3,
             "#f1b6da"
            ],
            [
             0.4,
             "#fde0ef"
            ],
            [
             0.5,
             "#f7f7f7"
            ],
            [
             0.6,
             "#e6f5d0"
            ],
            [
             0.7,
             "#b8e186"
            ],
            [
             0.8,
             "#7fbc41"
            ],
            [
             0.9,
             "#4d9221"
            ],
            [
             1,
             "#276419"
            ]
           ],
           "sequential": [
            [
             0,
             "#0d0887"
            ],
            [
             0.1111111111111111,
             "#46039f"
            ],
            [
             0.2222222222222222,
             "#7201a8"
            ],
            [
             0.3333333333333333,
             "#9c179e"
            ],
            [
             0.4444444444444444,
             "#bd3786"
            ],
            [
             0.5555555555555556,
             "#d8576b"
            ],
            [
             0.6666666666666666,
             "#ed7953"
            ],
            [
             0.7777777777777778,
             "#fb9f3a"
            ],
            [
             0.8888888888888888,
             "#fdca26"
            ],
            [
             1,
             "#f0f921"
            ]
           ],
           "sequentialminus": [
            [
             0,
             "#0d0887"
            ],
            [
             0.1111111111111111,
             "#46039f"
            ],
            [
             0.2222222222222222,
             "#7201a8"
            ],
            [
             0.3333333333333333,
             "#9c179e"
            ],
            [
             0.4444444444444444,
             "#bd3786"
            ],
            [
             0.5555555555555556,
             "#d8576b"
            ],
            [
             0.6666666666666666,
             "#ed7953"
            ],
            [
             0.7777777777777778,
             "#fb9f3a"
            ],
            [
             0.8888888888888888,
             "#fdca26"
            ],
            [
             1,
             "#f0f921"
            ]
           ]
          },
          "colorway": [
           "#636efa",
           "#EF553B",
           "#00cc96",
           "#ab63fa",
           "#FFA15A",
           "#19d3f3",
           "#FF6692",
           "#B6E880",
           "#FF97FF",
           "#FECB52"
          ],
          "font": {
           "color": "#2a3f5f"
          },
          "geo": {
           "bgcolor": "white",
           "lakecolor": "white",
           "landcolor": "#E5ECF6",
           "showlakes": true,
           "showland": true,
           "subunitcolor": "white"
          },
          "hoverlabel": {
           "align": "left"
          },
          "hovermode": "closest",
          "mapbox": {
           "style": "light"
          },
          "paper_bgcolor": "white",
          "plot_bgcolor": "#E5ECF6",
          "polar": {
           "angularaxis": {
            "gridcolor": "white",
            "linecolor": "white",
            "ticks": ""
           },
           "bgcolor": "#E5ECF6",
           "radialaxis": {
            "gridcolor": "white",
            "linecolor": "white",
            "ticks": ""
           }
          },
          "scene": {
           "xaxis": {
            "backgroundcolor": "#E5ECF6",
            "gridcolor": "white",
            "gridwidth": 2,
            "linecolor": "white",
            "showbackground": true,
            "ticks": "",
            "zerolinecolor": "white"
           },
           "yaxis": {
            "backgroundcolor": "#E5ECF6",
            "gridcolor": "white",
            "gridwidth": 2,
            "linecolor": "white",
            "showbackground": true,
            "ticks": "",
            "zerolinecolor": "white"
           },
           "zaxis": {
            "backgroundcolor": "#E5ECF6",
            "gridcolor": "white",
            "gridwidth": 2,
            "linecolor": "white",
            "showbackground": true,
            "ticks": "",
            "zerolinecolor": "white"
           }
          },
          "shapedefaults": {
           "line": {
            "color": "#2a3f5f"
           }
          },
          "ternary": {
           "aaxis": {
            "gridcolor": "white",
            "linecolor": "white",
            "ticks": ""
           },
           "baxis": {
            "gridcolor": "white",
            "linecolor": "white",
            "ticks": ""
           },
           "bgcolor": "#E5ECF6",
           "caxis": {
            "gridcolor": "white",
            "linecolor": "white",
            "ticks": ""
           }
          },
          "title": {
           "x": 0.05
          },
          "xaxis": {
           "automargin": true,
           "gridcolor": "white",
           "linecolor": "white",
           "ticks": "",
           "title": {
            "standoff": 15
           },
           "zerolinecolor": "white",
           "zerolinewidth": 2
          },
          "yaxis": {
           "automargin": true,
           "gridcolor": "white",
           "linecolor": "white",
           "ticks": "",
           "title": {
            "standoff": 15
           },
           "zerolinecolor": "white",
           "zerolinewidth": 2
          }
         }
        },
        "title": {
         "text": "Distribution of Market Capitalization by Industry"
        },
        "xaxis": {
         "anchor": "y",
         "domain": [
          0,
          1
         ],
         "title": {
          "text": "Industry"
         }
        },
        "yaxis": {
         "anchor": "x",
         "domain": [
          0,
          1
         ],
         "title": {
          "text": "Market Capitalization"
         }
        }
       }
      }
     },
     "metadata": {},
     "output_type": "display_data"
    }
   ],
   "source": [
    "# Visualize the distribution of market capitalization for each industry\n",
    "fig = px.box(data, x='Industry', y='MarketCap', title='Distribution of Market Capitalization by Industry')\n",
    "fig.update_layout(xaxis_title='Industry', yaxis_title='Market Capitalization')\n",
    "fig.show()"
   ]
  },
  {
   "cell_type": "code",
   "execution_count": 22,
   "metadata": {},
   "outputs": [
    {
     "name": "stdout",
     "output_type": "stream",
     "text": [
      "Number of outliers in market capitalization data: 20\n",
      "Outliers in market capitalization data:\n",
      "    Company    Industry  MarketCap\n",
      "21        C  Technology    1535809\n",
      "45        A     Finance   99710982\n",
      "64        D  Technology    1130992\n",
      "74        C  Healthcare   99558937\n",
      "129       D  Technology   99204851\n",
      "132       D     Finance    1535906\n",
      "137       D  Technology    1058185\n",
      "284       B  Healthcare    1845871\n",
      "316       B  Technology   99583087\n",
      "348       C     Finance   99944263\n",
      "372       C     Finance   99352615\n",
      "380       C  Healthcare   99955661\n",
      "494       B  Healthcare    1218309\n",
      "525       D     Finance    1511913\n",
      "600       A  Healthcare    1573026\n",
      "738       B  Technology   99796215\n",
      "762       D     Finance    1211535\n",
      "961       C  Technology   99662741\n",
      "968       C  Technology   99504031\n",
      "985       C  Healthcare    1772011\n"
     ]
    }
   ],
   "source": [
    "# Identify outliers in the market capitalization data\n",
    "\n",
    "market_cap_outliers = data[(data['MarketCap'] < data['MarketCap'].quantile(0.01)) | (data['MarketCap'] > data['MarketCap'].quantile(0.99))]\n",
    "print(f\"Number of outliers in market capitalization data: {len(market_cap_outliers)}\")\n",
    "print(\"Outliers in market capitalization data:\")\n",
    "print(market_cap_outliers[['Company', 'Industry', 'MarketCap']])"
   ]
  },
  {
   "cell_type": "code",
   "execution_count": 23,
   "metadata": {},
   "outputs": [
    {
     "data": {
      "application/vnd.plotly.v1+json": {
       "config": {
        "plotlyServerURL": "https://plot.ly"
       },
       "data": [
        {
         "hovertemplate": "Industry=Technology<br>Company=%{x}<br>Market Capitalization=%{y}<extra></extra>",
         "legendgroup": "Technology",
         "marker": {
          "color": "#636efa",
          "opacity": 0.8,
          "size": 12,
          "symbol": "circle"
         },
         "mode": "markers",
         "name": "Technology",
         "orientation": "v",
         "showlegend": true,
         "type": "scatter",
         "x": [
          "C",
          "D",
          "D",
          "D",
          "B",
          "B",
          "C",
          "C"
         ],
         "xaxis": "x",
         "y": [
          1535809,
          1130992,
          99204851,
          1058185,
          99583087,
          99796215,
          99662741,
          99504031
         ],
         "yaxis": "y"
        },
        {
         "hovertemplate": "Industry=Finance<br>Company=%{x}<br>Market Capitalization=%{y}<extra></extra>",
         "legendgroup": "Finance",
         "marker": {
          "color": "#EF553B",
          "opacity": 0.8,
          "size": 12,
          "symbol": "circle"
         },
         "mode": "markers",
         "name": "Finance",
         "orientation": "v",
         "showlegend": true,
         "type": "scatter",
         "x": [
          "A",
          "D",
          "C",
          "C",
          "D",
          "D"
         ],
         "xaxis": "x",
         "y": [
          99710982,
          1535906,
          99944263,
          99352615,
          1511913,
          1211535
         ],
         "yaxis": "y"
        },
        {
         "hovertemplate": "Industry=Healthcare<br>Company=%{x}<br>Market Capitalization=%{y}<extra></extra>",
         "legendgroup": "Healthcare",
         "marker": {
          "color": "#00cc96",
          "opacity": 0.8,
          "size": 12,
          "symbol": "circle"
         },
         "mode": "markers",
         "name": "Healthcare",
         "orientation": "v",
         "showlegend": true,
         "type": "scatter",
         "x": [
          "C",
          "B",
          "C",
          "B",
          "A",
          "C"
         ],
         "xaxis": "x",
         "y": [
          99558937,
          1845871,
          99955661,
          1218309,
          1573026,
          1772011
         ],
         "yaxis": "y"
        }
       ],
       "layout": {
        "legend": {
         "title": {
          "text": "Industry"
         },
         "tracegroupgap": 0
        },
        "template": {
         "data": {
          "bar": [
           {
            "error_x": {
             "color": "#2a3f5f"
            },
            "error_y": {
             "color": "#2a3f5f"
            },
            "marker": {
             "line": {
              "color": "#E5ECF6",
              "width": 0.5
             },
             "pattern": {
              "fillmode": "overlay",
              "size": 10,
              "solidity": 0.2
             }
            },
            "type": "bar"
           }
          ],
          "barpolar": [
           {
            "marker": {
             "line": {
              "color": "#E5ECF6",
              "width": 0.5
             },
             "pattern": {
              "fillmode": "overlay",
              "size": 10,
              "solidity": 0.2
             }
            },
            "type": "barpolar"
           }
          ],
          "carpet": [
           {
            "aaxis": {
             "endlinecolor": "#2a3f5f",
             "gridcolor": "white",
             "linecolor": "white",
             "minorgridcolor": "white",
             "startlinecolor": "#2a3f5f"
            },
            "baxis": {
             "endlinecolor": "#2a3f5f",
             "gridcolor": "white",
             "linecolor": "white",
             "minorgridcolor": "white",
             "startlinecolor": "#2a3f5f"
            },
            "type": "carpet"
           }
          ],
          "choropleth": [
           {
            "colorbar": {
             "outlinewidth": 0,
             "ticks": ""
            },
            "type": "choropleth"
           }
          ],
          "contour": [
           {
            "colorbar": {
             "outlinewidth": 0,
             "ticks": ""
            },
            "colorscale": [
             [
              0,
              "#0d0887"
             ],
             [
              0.1111111111111111,
              "#46039f"
             ],
             [
              0.2222222222222222,
              "#7201a8"
             ],
             [
              0.3333333333333333,
              "#9c179e"
             ],
             [
              0.4444444444444444,
              "#bd3786"
             ],
             [
              0.5555555555555556,
              "#d8576b"
             ],
             [
              0.6666666666666666,
              "#ed7953"
             ],
             [
              0.7777777777777778,
              "#fb9f3a"
             ],
             [
              0.8888888888888888,
              "#fdca26"
             ],
             [
              1,
              "#f0f921"
             ]
            ],
            "type": "contour"
           }
          ],
          "contourcarpet": [
           {
            "colorbar": {
             "outlinewidth": 0,
             "ticks": ""
            },
            "type": "contourcarpet"
           }
          ],
          "heatmap": [
           {
            "colorbar": {
             "outlinewidth": 0,
             "ticks": ""
            },
            "colorscale": [
             [
              0,
              "#0d0887"
             ],
             [
              0.1111111111111111,
              "#46039f"
             ],
             [
              0.2222222222222222,
              "#7201a8"
             ],
             [
              0.3333333333333333,
              "#9c179e"
             ],
             [
              0.4444444444444444,
              "#bd3786"
             ],
             [
              0.5555555555555556,
              "#d8576b"
             ],
             [
              0.6666666666666666,
              "#ed7953"
             ],
             [
              0.7777777777777778,
              "#fb9f3a"
             ],
             [
              0.8888888888888888,
              "#fdca26"
             ],
             [
              1,
              "#f0f921"
             ]
            ],
            "type": "heatmap"
           }
          ],
          "heatmapgl": [
           {
            "colorbar": {
             "outlinewidth": 0,
             "ticks": ""
            },
            "colorscale": [
             [
              0,
              "#0d0887"
             ],
             [
              0.1111111111111111,
              "#46039f"
             ],
             [
              0.2222222222222222,
              "#7201a8"
             ],
             [
              0.3333333333333333,
              "#9c179e"
             ],
             [
              0.4444444444444444,
              "#bd3786"
             ],
             [
              0.5555555555555556,
              "#d8576b"
             ],
             [
              0.6666666666666666,
              "#ed7953"
             ],
             [
              0.7777777777777778,
              "#fb9f3a"
             ],
             [
              0.8888888888888888,
              "#fdca26"
             ],
             [
              1,
              "#f0f921"
             ]
            ],
            "type": "heatmapgl"
           }
          ],
          "histogram": [
           {
            "marker": {
             "pattern": {
              "fillmode": "overlay",
              "size": 10,
              "solidity": 0.2
             }
            },
            "type": "histogram"
           }
          ],
          "histogram2d": [
           {
            "colorbar": {
             "outlinewidth": 0,
             "ticks": ""
            },
            "colorscale": [
             [
              0,
              "#0d0887"
             ],
             [
              0.1111111111111111,
              "#46039f"
             ],
             [
              0.2222222222222222,
              "#7201a8"
             ],
             [
              0.3333333333333333,
              "#9c179e"
             ],
             [
              0.4444444444444444,
              "#bd3786"
             ],
             [
              0.5555555555555556,
              "#d8576b"
             ],
             [
              0.6666666666666666,
              "#ed7953"
             ],
             [
              0.7777777777777778,
              "#fb9f3a"
             ],
             [
              0.8888888888888888,
              "#fdca26"
             ],
             [
              1,
              "#f0f921"
             ]
            ],
            "type": "histogram2d"
           }
          ],
          "histogram2dcontour": [
           {
            "colorbar": {
             "outlinewidth": 0,
             "ticks": ""
            },
            "colorscale": [
             [
              0,
              "#0d0887"
             ],
             [
              0.1111111111111111,
              "#46039f"
             ],
             [
              0.2222222222222222,
              "#7201a8"
             ],
             [
              0.3333333333333333,
              "#9c179e"
             ],
             [
              0.4444444444444444,
              "#bd3786"
             ],
             [
              0.5555555555555556,
              "#d8576b"
             ],
             [
              0.6666666666666666,
              "#ed7953"
             ],
             [
              0.7777777777777778,
              "#fb9f3a"
             ],
             [
              0.8888888888888888,
              "#fdca26"
             ],
             [
              1,
              "#f0f921"
             ]
            ],
            "type": "histogram2dcontour"
           }
          ],
          "mesh3d": [
           {
            "colorbar": {
             "outlinewidth": 0,
             "ticks": ""
            },
            "type": "mesh3d"
           }
          ],
          "parcoords": [
           {
            "line": {
             "colorbar": {
              "outlinewidth": 0,
              "ticks": ""
             }
            },
            "type": "parcoords"
           }
          ],
          "pie": [
           {
            "automargin": true,
            "type": "pie"
           }
          ],
          "scatter": [
           {
            "fillpattern": {
             "fillmode": "overlay",
             "size": 10,
             "solidity": 0.2
            },
            "type": "scatter"
           }
          ],
          "scatter3d": [
           {
            "line": {
             "colorbar": {
              "outlinewidth": 0,
              "ticks": ""
             }
            },
            "marker": {
             "colorbar": {
              "outlinewidth": 0,
              "ticks": ""
             }
            },
            "type": "scatter3d"
           }
          ],
          "scattercarpet": [
           {
            "marker": {
             "colorbar": {
              "outlinewidth": 0,
              "ticks": ""
             }
            },
            "type": "scattercarpet"
           }
          ],
          "scattergeo": [
           {
            "marker": {
             "colorbar": {
              "outlinewidth": 0,
              "ticks": ""
             }
            },
            "type": "scattergeo"
           }
          ],
          "scattergl": [
           {
            "marker": {
             "colorbar": {
              "outlinewidth": 0,
              "ticks": ""
             }
            },
            "type": "scattergl"
           }
          ],
          "scattermapbox": [
           {
            "marker": {
             "colorbar": {
              "outlinewidth": 0,
              "ticks": ""
             }
            },
            "type": "scattermapbox"
           }
          ],
          "scatterpolar": [
           {
            "marker": {
             "colorbar": {
              "outlinewidth": 0,
              "ticks": ""
             }
            },
            "type": "scatterpolar"
           }
          ],
          "scatterpolargl": [
           {
            "marker": {
             "colorbar": {
              "outlinewidth": 0,
              "ticks": ""
             }
            },
            "type": "scatterpolargl"
           }
          ],
          "scatterternary": [
           {
            "marker": {
             "colorbar": {
              "outlinewidth": 0,
              "ticks": ""
             }
            },
            "type": "scatterternary"
           }
          ],
          "surface": [
           {
            "colorbar": {
             "outlinewidth": 0,
             "ticks": ""
            },
            "colorscale": [
             [
              0,
              "#0d0887"
             ],
             [
              0.1111111111111111,
              "#46039f"
             ],
             [
              0.2222222222222222,
              "#7201a8"
             ],
             [
              0.3333333333333333,
              "#9c179e"
             ],
             [
              0.4444444444444444,
              "#bd3786"
             ],
             [
              0.5555555555555556,
              "#d8576b"
             ],
             [
              0.6666666666666666,
              "#ed7953"
             ],
             [
              0.7777777777777778,
              "#fb9f3a"
             ],
             [
              0.8888888888888888,
              "#fdca26"
             ],
             [
              1,
              "#f0f921"
             ]
            ],
            "type": "surface"
           }
          ],
          "table": [
           {
            "cells": {
             "fill": {
              "color": "#EBF0F8"
             },
             "line": {
              "color": "white"
             }
            },
            "header": {
             "fill": {
              "color": "#C8D4E3"
             },
             "line": {
              "color": "white"
             }
            },
            "type": "table"
           }
          ]
         },
         "layout": {
          "annotationdefaults": {
           "arrowcolor": "#2a3f5f",
           "arrowhead": 0,
           "arrowwidth": 1
          },
          "autotypenumbers": "strict",
          "coloraxis": {
           "colorbar": {
            "outlinewidth": 0,
            "ticks": ""
           }
          },
          "colorscale": {
           "diverging": [
            [
             0,
             "#8e0152"
            ],
            [
             0.1,
             "#c51b7d"
            ],
            [
             0.2,
             "#de77ae"
            ],
            [
             0.3,
             "#f1b6da"
            ],
            [
             0.4,
             "#fde0ef"
            ],
            [
             0.5,
             "#f7f7f7"
            ],
            [
             0.6,
             "#e6f5d0"
            ],
            [
             0.7,
             "#b8e186"
            ],
            [
             0.8,
             "#7fbc41"
            ],
            [
             0.9,
             "#4d9221"
            ],
            [
             1,
             "#276419"
            ]
           ],
           "sequential": [
            [
             0,
             "#0d0887"
            ],
            [
             0.1111111111111111,
             "#46039f"
            ],
            [
             0.2222222222222222,
             "#7201a8"
            ],
            [
             0.3333333333333333,
             "#9c179e"
            ],
            [
             0.4444444444444444,
             "#bd3786"
            ],
            [
             0.5555555555555556,
             "#d8576b"
            ],
            [
             0.6666666666666666,
             "#ed7953"
            ],
            [
             0.7777777777777778,
             "#fb9f3a"
            ],
            [
             0.8888888888888888,
             "#fdca26"
            ],
            [
             1,
             "#f0f921"
            ]
           ],
           "sequentialminus": [
            [
             0,
             "#0d0887"
            ],
            [
             0.1111111111111111,
             "#46039f"
            ],
            [
             0.2222222222222222,
             "#7201a8"
            ],
            [
             0.3333333333333333,
             "#9c179e"
            ],
            [
             0.4444444444444444,
             "#bd3786"
            ],
            [
             0.5555555555555556,
             "#d8576b"
            ],
            [
             0.6666666666666666,
             "#ed7953"
            ],
            [
             0.7777777777777778,
             "#fb9f3a"
            ],
            [
             0.8888888888888888,
             "#fdca26"
            ],
            [
             1,
             "#f0f921"
            ]
           ]
          },
          "colorway": [
           "#636efa",
           "#EF553B",
           "#00cc96",
           "#ab63fa",
           "#FFA15A",
           "#19d3f3",
           "#FF6692",
           "#B6E880",
           "#FF97FF",
           "#FECB52"
          ],
          "font": {
           "color": "#2a3f5f"
          },
          "geo": {
           "bgcolor": "white",
           "lakecolor": "white",
           "landcolor": "#E5ECF6",
           "showlakes": true,
           "showland": true,
           "subunitcolor": "white"
          },
          "hoverlabel": {
           "align": "left"
          },
          "hovermode": "closest",
          "mapbox": {
           "style": "light"
          },
          "paper_bgcolor": "white",
          "plot_bgcolor": "#E5ECF6",
          "polar": {
           "angularaxis": {
            "gridcolor": "white",
            "linecolor": "white",
            "ticks": ""
           },
           "bgcolor": "#E5ECF6",
           "radialaxis": {
            "gridcolor": "white",
            "linecolor": "white",
            "ticks": ""
           }
          },
          "scene": {
           "xaxis": {
            "backgroundcolor": "#E5ECF6",
            "gridcolor": "white",
            "gridwidth": 2,
            "linecolor": "white",
            "showbackground": true,
            "ticks": "",
            "zerolinecolor": "white"
           },
           "yaxis": {
            "backgroundcolor": "#E5ECF6",
            "gridcolor": "white",
            "gridwidth": 2,
            "linecolor": "white",
            "showbackground": true,
            "ticks": "",
            "zerolinecolor": "white"
           },
           "zaxis": {
            "backgroundcolor": "#E5ECF6",
            "gridcolor": "white",
            "gridwidth": 2,
            "linecolor": "white",
            "showbackground": true,
            "ticks": "",
            "zerolinecolor": "white"
           }
          },
          "shapedefaults": {
           "line": {
            "color": "#2a3f5f"
           }
          },
          "ternary": {
           "aaxis": {
            "gridcolor": "white",
            "linecolor": "white",
            "ticks": ""
           },
           "baxis": {
            "gridcolor": "white",
            "linecolor": "white",
            "ticks": ""
           },
           "bgcolor": "#E5ECF6",
           "caxis": {
            "gridcolor": "white",
            "linecolor": "white",
            "ticks": ""
           }
          },
          "title": {
           "x": 0.05
          },
          "xaxis": {
           "automargin": true,
           "gridcolor": "white",
           "linecolor": "white",
           "ticks": "",
           "title": {
            "standoff": 15
           },
           "zerolinecolor": "white",
           "zerolinewidth": 2
          },
          "yaxis": {
           "automargin": true,
           "gridcolor": "white",
           "linecolor": "white",
           "ticks": "",
           "title": {
            "standoff": 15
           },
           "zerolinecolor": "white",
           "zerolinewidth": 2
          }
         }
        },
        "title": {
         "text": "Market Capitalization Outliers"
        },
        "xaxis": {
         "anchor": "y",
         "domain": [
          0,
          1
         ],
         "title": {
          "text": "Company"
         }
        },
        "yaxis": {
         "anchor": "x",
         "domain": [
          0,
          1
         ],
         "title": {
          "text": "Market Capitalization"
         }
        }
       }
      }
     },
     "metadata": {},
     "output_type": "display_data"
    }
   ],
   "source": [
    "import plotly.express as px\n",
    "\n",
    "# Create a scatter plot to visualize outliers in market capitalization data\n",
    "fig = px.scatter(market_cap_outliers, x='Company', y='MarketCap', color='Industry',\n",
    "                 title='Market Capitalization Outliers',\n",
    "                 labels={'MarketCap': 'Market Capitalization', 'Company': 'Company', 'Industry': 'Industry'})\n",
    "fig.update_traces(marker=dict(size=12, opacity=0.8))\n",
    "fig.show()"
   ]
  },
  {
   "cell_type": "markdown",
   "metadata": {},
   "source": [
    "**Infer findings:**\n",
    "\n",
    "1. **Industries with Highest and Lowest Market Capitalization:**\n",
    "   - Industry with Highest Market Capitalization: Finance\n",
    "   - Industry with Lowest Market Capitalization: Healthcare\n",
    "\n",
    "2. **Distribution of Market Capitalization by Industry:**\n",
    "   - The box plot shows the spread of market capitalization across different industries.\n",
    "   - It helps identify any variation or outliers in market capitalization.\n",
    "\n",
    "3. **Outliers in Market Capitalization Data:**\n",
    "   - Outliers are detected using box plot statistics and can indicate extreme values in market capitalization.\n",
    "   - Analyzing outliers can provide insights into companies with exceptionally high or low market capitalization.\n"
   ]
  }
 ],
 "metadata": {
  "kernelspec": {
   "display_name": "Python 3",
   "language": "python",
   "name": "python3"
  },
  "language_info": {
   "codemirror_mode": {
    "name": "ipython",
    "version": 3
   },
   "file_extension": ".py",
   "mimetype": "text/x-python",
   "name": "python",
   "nbconvert_exporter": "python",
   "pygments_lexer": "ipython3",
   "version": "3.11.6"
  }
 },
 "nbformat": 4,
 "nbformat_minor": 2
}
