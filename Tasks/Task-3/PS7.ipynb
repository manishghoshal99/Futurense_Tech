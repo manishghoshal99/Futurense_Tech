{
 "cells": [
  {
   "cell_type": "code",
   "execution_count": 1,
   "metadata": {},
   "outputs": [],
   "source": [
    "import pandas as pd\n",
    "import os\n",
    "\n",
    "file_path_housing = '/Users/manishghoshal/Downloads/DS - Python + SQL + ETL - Healthcare Census (4)/DS - Python + SQL + ETL - Healthcare Census/Data/housing.csv'\n",
    "housing_data = pd.read_csv(file_path_housing)"
   ]
  },
  {
   "cell_type": "code",
   "execution_count": 2,
   "metadata": {},
   "outputs": [],
   "source": [
    "file_path_processed_census = '/Users/manishghoshal/Downloads/DS - Python + SQL + ETL - Healthcare Census (4)/DS - Python + SQL + ETL - Healthcare Census/Clean_Data/census.csv'\n",
    "census_data = pd.read_csv(file_path_processed_census)"
   ]
  },
  {
   "cell_type": "code",
   "execution_count": 3,
   "metadata": {},
   "outputs": [],
   "source": [
    "selected_columns = ['District Name', 'Rural/Urban', 'Total Number of households', 'Total Number of Livable', 'Total Number of Dilapidated', 'Latrine_premise']\n",
    "housing_data = housing_data[selected_columns]"
   ]
  },
  {
   "cell_type": "code",
   "execution_count": 5,
   "metadata": {},
   "outputs": [
    {
     "name": "stderr",
     "output_type": "stream",
     "text": [
      "<>:2: SyntaxWarning: invalid escape sequence '\\%'\n",
      "<>:2: SyntaxWarning: invalid escape sequence '\\%'\n",
      "/var/folders/bb/m07q6d895630lsmj_4sxhdth0000gn/T/ipykernel_2222/1413995651.py:2: SyntaxWarning: invalid escape sequence '\\%'\n",
      "  housing_data[percentage_columns] = housing_data[percentage_columns].replace('[\\%,]', '', regex=True).astype(float) / 100.0\n"
     ]
    }
   ],
   "source": [
    "percentage_columns = ['Total Number of households', 'Total Number of Livable', 'Total Number of Dilapidated', 'Latrine_premise']\n",
    "housing_data[percentage_columns] = housing_data[percentage_columns].replace('[\\%,]', '', regex=True).astype(float) / 100.0"
   ]
  },
  {
   "cell_type": "code",
   "execution_count": 6,
   "metadata": {},
   "outputs": [],
   "source": [
    "merged_data = pd.merge(housing_data, census_data, left_on='District Name', right_on='District name', how='outer')"
   ]
  },
  {
   "cell_type": "code",
   "execution_count": 8,
   "metadata": {},
   "outputs": [],
   "source": [
    "\n",
    "merged_data['Rural/Urban'] = pd.to_numeric(merged_data['Rural/Urban'], errors='coerce')\n",
    "\n",
    "merged_data['Households_Rural'] = merged_data['Total Number of households'] * (1 - merged_data['Rural/Urban'])\n",
    "merged_data['Households_Urban'] = merged_data['Total Number of households'] * merged_data['Rural/Urban']\n"
   ]
  },
  {
   "cell_type": "code",
   "execution_count": 9,
   "metadata": {},
   "outputs": [],
   "source": [
    "merged_data['Households_Rural_Livable'] = merged_data['Households_Rural'] * merged_data['Total Number of Livable']\n",
    "merged_data['Households_Rural_Dilapidated'] = merged_data['Households_Rural'] * merged_data['Total Number of Dilapidated']\n",
    "merged_data['Households_Rural_Toilet_Premise'] = merged_data['Households_Rural'] * merged_data['Latrine_premise']"
   ]
  },
  {
   "cell_type": "code",
   "execution_count": 10,
   "metadata": {},
   "outputs": [],
   "source": [
    "merged_data['Households_Urban_Livable'] = merged_data['Households_Urban'] * merged_data['Total Number of Livable']\n",
    "merged_data['Households_Urban_Dilapidated'] = merged_data['Households_Urban'] * merged_data['Total Number of Dilapidated']\n",
    "merged_data['Households_Urban_Toilet_Premise'] = merged_data['Households_Urban'] * merged_data['Latrine_premise']"
   ]
  },
  {
   "cell_type": "code",
   "execution_count": 13,
   "metadata": {},
   "outputs": [],
   "source": [
    "merged_data.reset_index(drop=True, inplace=True)\n",
    "\n",
    "final_columns = ['District Name', 'Households_Rural', 'Households_Rural_Livable', 'Households_Rural_Dilapidated', 'Households_Rural_Toilet_Premise',\n",
    "                 'Households_Urban', 'Households_Urban_Livable', 'Households_Urban_Dilapidated', 'Households_Urban_Toilet_Premise']\n",
    "final_data = merged_data[final_columns]\n"
   ]
  },
  {
   "cell_type": "code",
   "execution_count": 14,
   "metadata": {},
   "outputs": [],
   "source": [
    "output_directory = '/Users/manishghoshal/Downloads/DS - Python + SQL + ETL - Healthcare Census (4)/DS - Python + SQL + ETL - Healthcare Census/Clean_Data'\n",
    "file_path_processed_housing = os.path.join(output_directory, 'housing.csv')\n",
    "final_data.to_csv(file_path_processed_housing, index=False)"
   ]
  }
 ],
 "metadata": {
  "kernelspec": {
   "display_name": "tensorflow",
   "language": "python",
   "name": "python3"
  },
  "language_info": {
   "codemirror_mode": {
    "name": "ipython",
    "version": 3
   },
   "file_extension": ".py",
   "mimetype": "text/x-python",
   "name": "python",
   "nbconvert_exporter": "python",
   "pygments_lexer": "ipython3",
   "version": "3.12.0"
  }
 },
 "nbformat": 4,
 "nbformat_minor": 2
}
