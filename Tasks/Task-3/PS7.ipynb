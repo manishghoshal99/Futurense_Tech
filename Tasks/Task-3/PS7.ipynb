{
 "cells": [
  {
   "cell_type": "code",
   "execution_count": 2,
   "metadata": {},
   "outputs": [
    {
     "ename": "SyntaxError",
     "evalue": "invalid syntax (2878426050.py, line 1)",
     "output_type": "error",
     "traceback": [
      "\u001b[0;36m  Cell \u001b[0;32mIn[2], line 1\u001b[0;36m\u001b[0m\n\u001b[0;31m    housing_df = pd.read_csv(/Users/manishghoshal/Downloads/Futurense_Internship-main/Tasks/Task-3/Data/housing.csv)\u001b[0m\n\u001b[0m                             ^\u001b[0m\n\u001b[0;31mSyntaxError\u001b[0m\u001b[0;31m:\u001b[0m invalid syntax\n"
     ]
    }
   ],
   "source": [
    "housing_df = pd.read_csv(/Users/manishghoshal/Downloads/Futurense_Internship-main/Tasks/Task-3/Data/housing.csv)\n",
    "census_df = pd.read.csv(/Users/manishghoshal/Downloads/Futurense_Internship-main/Tasks/Task-3/Data/census_2011.csv)"
   ]
  },
  {
   "cell_type": "code",
   "execution_count": null,
   "metadata": {},
   "outputs": [],
   "source": [
    "merged_df['Households_Rural'] = merged_df['Total Number of households'] * (merged_df['Rural_Households'] / 100)\n",
    "merged_df['Households_Urban'] = merged_df['Total Number of households'] * (merged_df['Urban_Households'] / 100)\n",
    "\n",
    "merged_df['Households_Rural_Livable'] = merged_df['Households_Rural'] * (merged_df['Total Number of Livable'] / 100)\n",
    "merged_df['Households_Urban_Livable'] = merged_df['Households_Urban'] * (merged_df['Total Number of Livable'] / 100)\n",
    "\n",
    "merged_df['Households_Rural_Dilapidated'] = merged_df['Households_Rural'] * (merged_df['Total Number of Dilapidated'] / 100)\n",
    "merged_df['Households_Urban_Dilapidated'] = merged_df['Households_Urban'] * (merged_df['Total Number of Dilapidated'] / 100)\n",
    "\n",
    "merged_df['Households_Rural_Toilet_Premise'] = merged_df['Households_Rural'] * (merged_df['Latrine_premise'] / 100)\n",
    "merged_df['Households_Urban_Toilet_Premise'] = merged_df['Households_Urban'] * (merged_df['Latrine_premise'] / 100)\n"
   ]
  }
 ],
 "metadata": {
  "kernelspec": {
   "display_name": "tensorflow",
   "language": "python",
   "name": "python3"
  },
  "language_info": {
   "codemirror_mode": {
    "name": "ipython",
    "version": 3
   },
   "file_extension": ".py",
   "mimetype": "text/x-python",
   "name": "python",
   "nbconvert_exporter": "python",
   "pygments_lexer": "ipython3",
   "version": "3.12.0"
  }
 },
 "nbformat": 4,
 "nbformat_minor": 2
}
