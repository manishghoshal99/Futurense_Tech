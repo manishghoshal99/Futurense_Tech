{
 "cells": [
  {
   "cell_type": "code",
   "execution_count": 5,
   "metadata": {},
   "outputs": [],
   "source": [
    "import pandas as pd\n",
    "import os\n",
    "\n",
    "file_path_housing = '/Users/manishghoshal/Downloads/DS - Python + SQL + ETL - Healthcare Census (4)/DS - Python + SQL + ETL - Healthcare Census/Data/housing.csv'\n",
    "housing_df = pd.read_csv(file_path_housing)\n",
    "\n",
    "file_path_processed_census = '/Users/manishghoshal/Downloads/DS - Python + SQL + ETL - Healthcare Census (4)/DS - Python + SQL + ETL - Healthcare Census/Clean_Data/census.csv'\n",
    "census_df = pd.read_csv(file_path_processed_census)"
   ]
  },
  {
   "cell_type": "code",
   "execution_count": 8,
   "metadata": {},
   "outputs": [],
   "source": [
    "merged_df = pd.merge(left= housing_df, right=census_df, how ='left', left_on= 'District Name', right_on= 'District name')"
   ]
  },
  {
   "cell_type": "code",
   "execution_count": 9,
   "metadata": {},
   "outputs": [],
   "source": [
    "merged_df['Households_Rural'] = merged_df['Total Number of households'] * (merged_df['Rural_Households'] / 100)\n",
    "merged_df['Households_Urban'] = merged_df['Total Number of households'] * (merged_df['Urban_Households'] / 100)\n",
    "\n",
    "merged_df['Households_Rural_Livable'] = merged_df['Households_Rural'] * (merged_df['Total Number of Livable'] / 100)\n",
    "merged_df['Households_Urban_Livable'] = merged_df['Households_Urban'] * (merged_df['Total Number of Livable'] / 100)\n",
    "\n",
    "merged_df['Households_Rural_Dilapidated'] = merged_df['Households_Rural'] * (merged_df['Total Number of Dilapidated'] / 100)\n",
    "merged_df['Households_Urban_Dilapidated'] = merged_df['Households_Urban'] * (merged_df['Total Number of Dilapidated'] / 100)\n",
    "\n",
    "merged_df['Households_Rural_Toilet_Premise'] = merged_df['Households_Rural'] * (merged_df['Latrine_premise'] / 100)\n",
    "merged_df['Households_Urban_Toilet_Premise'] = merged_df['Households_Urban'] * (merged_df['Latrine_premise'] / 100)\n"
   ]
  },
  {
   "cell_type": "code",
   "execution_count": 11,
   "metadata": {},
   "outputs": [],
   "source": [
    "result_df = merged_df[['District Name', 'Rural/Urban', 'Households_Rural', 'Households_Rural_Livable', 'Households_Rural_Dilapidated', 'Households_Rural_Toilet_Premise',\n",
    "                        'Households_Urban', 'Households_Urban_Livable', 'Households_Urban_Dilapidated', 'Households_Urban_Toilet_Premise']]\n",
    "\n",
    "\n",
    "result_df.columns = ['District', 'Rural/Urban', 'Households_Rural', 'Households_Rural_Livable', 'Households_Rural_Dilapidated', 'Households_Rural_Toilet_Premise',\n",
    "                        'Households_Urban', 'Households_Urban_Livable', 'Households_Urban_Dilapidated', 'Households_Urban_Toilet_Premise']"
   ]
  },
  {
   "cell_type": "code",
   "execution_count": 12,
   "metadata": {},
   "outputs": [],
   "source": [
    "result_df.to_csv('/Users/manishghoshal/Downloads/DS - Python + SQL + ETL - Healthcare Census (4)/DS - Python + SQL + ETL - Healthcare Census/Clean_Data/housing.csv', index=False)"
   ]
  },
  {
   "cell_type": "code",
   "execution_count": 13,
   "metadata": {},
   "outputs": [
    {
     "data": {
      "text/html": [
       "<div>\n",
       "<style scoped>\n",
       "    .dataframe tbody tr th:only-of-type {\n",
       "        vertical-align: middle;\n",
       "    }\n",
       "\n",
       "    .dataframe tbody tr th {\n",
       "        vertical-align: top;\n",
       "    }\n",
       "\n",
       "    .dataframe thead th {\n",
       "        text-align: right;\n",
       "    }\n",
       "</style>\n",
       "<table border=\"1\" class=\"dataframe\">\n",
       "  <thead>\n",
       "    <tr style=\"text-align: right;\">\n",
       "      <th></th>\n",
       "      <th>District</th>\n",
       "      <th>Rural/Urban</th>\n",
       "      <th>Households_Rural</th>\n",
       "      <th>Households_Rural_Livable</th>\n",
       "      <th>Households_Rural_Dilapidated</th>\n",
       "      <th>Households_Rural_Toilet_Premise</th>\n",
       "      <th>Households_Urban</th>\n",
       "      <th>Households_Urban_Livable</th>\n",
       "      <th>Households_Urban_Dilapidated</th>\n",
       "      <th>Households_Urban_Toilet_Premise</th>\n",
       "    </tr>\n",
       "  </thead>\n",
       "  <tbody>\n",
       "    <tr>\n",
       "      <th>0</th>\n",
       "      <td>Kupwara</td>\n",
       "      <td>Rural</td>\n",
       "      <td>158438.0</td>\n",
       "      <td>92052.478</td>\n",
       "      <td>13150.354</td>\n",
       "      <td>77476.182</td>\n",
       "      <td>NaN</td>\n",
       "      <td>NaN</td>\n",
       "      <td>NaN</td>\n",
       "      <td>NaN</td>\n",
       "    </tr>\n",
       "    <tr>\n",
       "      <th>1</th>\n",
       "      <td>Kupwara</td>\n",
       "      <td>Total</td>\n",
       "      <td>158438.0</td>\n",
       "      <td>90784.974</td>\n",
       "      <td>12516.602</td>\n",
       "      <td>80644.942</td>\n",
       "      <td>NaN</td>\n",
       "      <td>NaN</td>\n",
       "      <td>NaN</td>\n",
       "      <td>NaN</td>\n",
       "    </tr>\n",
       "    <tr>\n",
       "      <th>2</th>\n",
       "      <td>Kupwara</td>\n",
       "      <td>Urban</td>\n",
       "      <td>158438.0</td>\n",
       "      <td>78426.810</td>\n",
       "      <td>7605.024</td>\n",
       "      <td>111223.476</td>\n",
       "      <td>NaN</td>\n",
       "      <td>NaN</td>\n",
       "      <td>NaN</td>\n",
       "      <td>NaN</td>\n",
       "    </tr>\n",
       "    <tr>\n",
       "      <th>3</th>\n",
       "      <td>Badgam</td>\n",
       "      <td>Rural</td>\n",
       "      <td>160649.0</td>\n",
       "      <td>74380.487</td>\n",
       "      <td>6265.311</td>\n",
       "      <td>133820.617</td>\n",
       "      <td>27190.0</td>\n",
       "      <td>12588.97</td>\n",
       "      <td>1060.41</td>\n",
       "      <td>22649.27</td>\n",
       "    </tr>\n",
       "    <tr>\n",
       "      <th>4</th>\n",
       "      <td>Badgam</td>\n",
       "      <td>Total</td>\n",
       "      <td>160649.0</td>\n",
       "      <td>71810.103</td>\n",
       "      <td>6104.662</td>\n",
       "      <td>135427.107</td>\n",
       "      <td>27190.0</td>\n",
       "      <td>12153.93</td>\n",
       "      <td>1033.22</td>\n",
       "      <td>22921.17</td>\n",
       "    </tr>\n",
       "  </tbody>\n",
       "</table>\n",
       "</div>"
      ],
      "text/plain": [
       "  District Rural/Urban  Households_Rural  Households_Rural_Livable  \\\n",
       "0  Kupwara       Rural          158438.0                 92052.478   \n",
       "1  Kupwara       Total          158438.0                 90784.974   \n",
       "2  Kupwara       Urban          158438.0                 78426.810   \n",
       "3   Badgam       Rural          160649.0                 74380.487   \n",
       "4   Badgam       Total          160649.0                 71810.103   \n",
       "\n",
       "   Households_Rural_Dilapidated  Households_Rural_Toilet_Premise  \\\n",
       "0                     13150.354                        77476.182   \n",
       "1                     12516.602                        80644.942   \n",
       "2                      7605.024                       111223.476   \n",
       "3                      6265.311                       133820.617   \n",
       "4                      6104.662                       135427.107   \n",
       "\n",
       "   Households_Urban  Households_Urban_Livable  Households_Urban_Dilapidated  \\\n",
       "0               NaN                       NaN                           NaN   \n",
       "1               NaN                       NaN                           NaN   \n",
       "2               NaN                       NaN                           NaN   \n",
       "3           27190.0                  12588.97                       1060.41   \n",
       "4           27190.0                  12153.93                       1033.22   \n",
       "\n",
       "   Households_Urban_Toilet_Premise  \n",
       "0                              NaN  \n",
       "1                              NaN  \n",
       "2                              NaN  \n",
       "3                         22649.27  \n",
       "4                         22921.17  "
      ]
     },
     "execution_count": 13,
     "metadata": {},
     "output_type": "execute_result"
    }
   ],
   "source": [
    "result_df.head()"
   ]
  },
  {
   "cell_type": "code",
   "execution_count": null,
   "metadata": {},
   "outputs": [],
   "source": []
  }
 ],
 "metadata": {
  "kernelspec": {
   "display_name": "tensorflow",
   "language": "python",
   "name": "python3"
  },
  "language_info": {
   "codemirror_mode": {
    "name": "ipython",
    "version": 3
   },
   "file_extension": ".py",
   "mimetype": "text/x-python",
   "name": "python",
   "nbconvert_exporter": "python",
   "pygments_lexer": "ipython3",
   "version": "3.12.0"
  }
 },
 "nbformat": 4,
 "nbformat_minor": 2
}
