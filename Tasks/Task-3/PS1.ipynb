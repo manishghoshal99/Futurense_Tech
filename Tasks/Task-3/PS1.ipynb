{
 "cells": [
  {
   "cell_type": "code",
   "execution_count": 1,
   "metadata": {},
   "outputs": [],
   "source": [
    "import pandas as pd\n",
    "file_path = '/Users/manishghoshal/Downloads/DS - Python + SQL + ETL - Healthcare Census (4)/DS - Python + SQL + ETL - Healthcare Census/Data/census_2011.csv'"
   ]
  },
  {
   "cell_type": "code",
   "execution_count": 2,
   "metadata": {},
   "outputs": [],
   "source": [
    "census_data = pd.read_csv(file_path)"
   ]
  },
  {
   "cell_type": "code",
   "execution_count": 3,
   "metadata": {},
   "outputs": [],
   "source": [
    "relevant_columns = [\n",
    "    'State name', 'District name', 'Population', 'Male', 'Female',\n",
    "    'Literate', 'Male_Literate', 'Female_Literate',\n",
    "    'Rural_Households', 'Urban_Households', 'Households',\n",
    "    'Age_Group_0_29', 'Age_Group_30_49', 'Age_Group_50', 'Age not stated'\n",
    "]"
   ]
  },
  {
   "cell_type": "code",
   "execution_count": 4,
   "metadata": {},
   "outputs": [
    {
     "name": "stdout",
     "output_type": "stream",
     "text": [
      "                      State name              District name  Population   \n",
      "0              JAMMU AND KASHMIR                    Kupwara    870354.0  \\\n",
      "1              JAMMU AND KASHMIR                     Badgam    753745.0   \n",
      "2              JAMMU AND KASHMIR                Leh(Ladakh)    133487.0   \n",
      "3              JAMMU AND KASHMIR                     Kargil    140802.0   \n",
      "4              JAMMU AND KASHMIR                      Punch         NaN   \n",
      "..                           ...                        ...         ...   \n",
      "635                  PONDICHERRY                       Mahe     41816.0   \n",
      "636                  PONDICHERRY                   Karaikal    200222.0   \n",
      "637  ANDAMAN AND NICOBAR ISLANDS                   Nicobars     36842.0   \n",
      "638  ANDAMAN AND NICOBAR ISLANDS  North  AND Middle Andaman    105597.0   \n",
      "639  ANDAMAN AND NICOBAR ISLANDS              South Andaman         NaN   \n",
      "\n",
      "         Male    Female  Literate  Male_Literate  Female_Literate   \n",
      "0    474190.0  396164.0  439654.0       282823.0         156831.0  \\\n",
      "1         NaN  355704.0  335649.0       207741.0         127908.0   \n",
      "2     78971.0   54516.0   93770.0        62834.0          30936.0   \n",
      "3         NaN   63017.0       NaN        56301.0          29935.0   \n",
      "4    251899.0  224936.0  261724.0       163333.0          98391.0   \n",
      "..        ...       ...       ...            ...              ...   \n",
      "635   19143.0   22673.0   36470.0        16610.0          19860.0   \n",
      "636   97809.0  102413.0  154916.0        79903.0          75013.0   \n",
      "637   20727.0       NaN   25332.0        15397.0           9935.0   \n",
      "638   54861.0   50736.0   78683.0        43186.0          35497.0   \n",
      "639  127283.0  110859.0  190266.0       105794.0          84472.0   \n",
      "\n",
      "     Rural_Households  Urban_Households  Households  Age_Group_0_29   \n",
      "0            158438.0               NaN    181664.0        600759.0  \\\n",
      "1            160649.0           27190.0    187839.0        503223.0   \n",
      "2             36920.0           17474.0     54394.0         70703.0   \n",
      "3             40370.0            7774.0     48144.0         87532.0   \n",
      "4            132139.0           15269.0    147408.0        304979.0   \n",
      "..                ...               ...         ...             ...   \n",
      "635               0.0           12110.0     12110.0         19760.0   \n",
      "636           35618.0           33715.0     69333.0             NaN   \n",
      "637           15958.0               0.0     15958.0         18786.0   \n",
      "638           39091.0            1094.0     40185.0         57350.0   \n",
      "639           34901.0           50631.0     85532.0        128402.0   \n",
      "\n",
      "     Age_Group_30_49  Age_Group_50  Age not stated  \n",
      "0           178435.0       89679.0          1481.0  \n",
      "1           160933.0       88978.0           611.0  \n",
      "2            41515.0           NaN           250.0  \n",
      "3            35561.0       17488.0           221.0  \n",
      "4           109818.0       61334.0           704.0  \n",
      "..               ...           ...             ...  \n",
      "635              NaN        9428.0            85.0  \n",
      "636          60089.0           NaN           366.0  \n",
      "637          12088.0        5922.0            46.0  \n",
      "638          30741.0       17464.0            42.0  \n",
      "639          76332.0       33128.0           280.0  \n",
      "\n",
      "[640 rows x 15 columns]\n"
     ]
    }
   ],
   "source": [
    "census_data = census_data[relevant_columns]\n",
    "print(census_data)"
   ]
  },
  {
   "cell_type": "code",
   "execution_count": null,
   "metadata": {},
   "outputs": [],
   "source": []
  }
 ],
 "metadata": {
  "kernelspec": {
   "display_name": "Python 3",
   "language": "python",
   "name": "python3"
  },
  "language_info": {
   "codemirror_mode": {
    "name": "ipython",
    "version": 3
   },
   "file_extension": ".py",
   "mimetype": "text/x-python",
   "name": "python",
   "nbconvert_exporter": "python",
   "pygments_lexer": "ipython3",
   "version": "3.11.6"
  }
 },
 "nbformat": 4,
 "nbformat_minor": 2
}
