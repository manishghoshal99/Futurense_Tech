{
 "cells": [
  {
   "cell_type": "code",
   "execution_count": 9,
   "metadata": {},
   "outputs": [],
   "source": [
    "import os\n",
    "import pandas as pd\n",
    "\n",
    "file_path_census = '/Users/manishghoshal/Downloads/DS - Python + SQL + ETL - Healthcare Census (4)/DS - Python + SQL + ETL - Healthcare Census/Data/census_2011.csv'\n",
    "file_path_housing = '/Users/manishghoshal/Downloads/DS - Python + SQL + ETL - Healthcare Census (4)/DS - Python + SQL + ETL - Healthcare Census/Data/housing.csv'\n",
    "output_directory = '/Users/manishghoshal/Downloads/DS - Python + SQL + ETL - Healthcare Census (4)/DS - Python + SQL + ETL - Healthcare Census/Clean_Data'\n",
    "file_path_processed_census = os.path.join(output_directory, 'census.csv')\n",
    "file_path_merged_data = os.path.join(output_directory, 'merged_data.csv')"
   ]
  },
  {
   "cell_type": "code",
   "execution_count": 10,
   "metadata": {},
   "outputs": [],
   "source": [
    "census_data = pd.read_csv(file_path_census)"
   ]
  },
  {
   "cell_type": "code",
   "execution_count": 11,
   "metadata": {},
   "outputs": [],
   "source": [
    "census_data['Population'].fillna(census_data['Male'] + census_data['Female'], inplace=True)\n",
    "census_data['Literate'].fillna(census_data['Male_Literate'] + census_data['Female_Literate'], inplace=True)\n",
    "census_data['Households'].fillna(census_data['Rural_Households'] + census_data['Urban_Households'], inplace=True)\n",
    "census_data['Age_Group_0_29'].fillna(census_data['Population'] - census_data['Age_Group_30_49'] - census_data['Age_Group_50'] - census_data['Age not stated'], inplace=True)"
   ]
  },
  {
   "cell_type": "code",
   "execution_count": 12,
   "metadata": {},
   "outputs": [],
   "source": [
    "os.makedirs(output_directory, exist_ok=True)\n",
    "census_data.to_csv(file_path_processed_census, index=False)"
   ]
  }
 ],
 "metadata": {
  "kernelspec": {
   "display_name": "tensorflow",
   "language": "python",
   "name": "python3"
  },
  "language_info": {
   "codemirror_mode": {
    "name": "ipython",
    "version": 3
   },
   "file_extension": ".py",
   "mimetype": "text/x-python",
   "name": "python",
   "nbconvert_exporter": "python",
   "pygments_lexer": "ipython3",
   "version": "3.12.0"
  }
 },
 "nbformat": 4,
 "nbformat_minor": 2
}
