{
 "cells": [
  {
   "cell_type": "code",
   "execution_count": 2,
   "metadata": {},
   "outputs": [],
   "source": [
    "import pandas as pd\n",
    "file_path = '/Users/manishghoshal/Downloads/DS - Python + SQL + ETL - Healthcare Census (4)/DS - Python + SQL + ETL - Healthcare Census/Data/census_2011.csv'"
   ]
  },
  {
   "cell_type": "code",
   "execution_count": 3,
   "metadata": {},
   "outputs": [],
   "source": [
    "census_data = pd.read_csv(file_path)\n"
   ]
  },
  {
   "cell_type": "code",
   "execution_count": 4,
   "metadata": {},
   "outputs": [],
   "source": [
    "column_rename_mapping = {\n",
    "    'State name': 'State/UT',\n",
    "    'District name': 'District',\n",
    "    'Male_Literate': 'Literate_Male',\n",
    "    'Female_Literate': 'Literate_Female',\n",
    "    'Rural_Households': 'Households_Rural',\n",
    "    'Urban_Households': 'Households_Urban',\n",
    "    'Age_Group_0_29': 'Young_and_Adult',\n",
    "    'Age_Group_30_49': 'Middle_Aged',\n",
    "    'Age_Group_50': 'Senior_Citizen',\n",
    "    'Age not stated': 'Age_Not_Stated'\n",
    "}"
   ]
  },
  {
   "cell_type": "code",
   "execution_count": 5,
   "metadata": {},
   "outputs": [
    {
     "name": "stdout",
     "output_type": "stream",
     "text": [
      "     District code                     State/UT                   District   \n",
      "0                1            JAMMU AND KASHMIR                    Kupwara  \\\n",
      "1                2            JAMMU AND KASHMIR                     Badgam   \n",
      "2                3            JAMMU AND KASHMIR                Leh(Ladakh)   \n",
      "3                4            JAMMU AND KASHMIR                     Kargil   \n",
      "4                5            JAMMU AND KASHMIR                      Punch   \n",
      "..             ...                          ...                        ...   \n",
      "635            636                  PONDICHERRY                       Mahe   \n",
      "636            637                  PONDICHERRY                   Karaikal   \n",
      "637            638  ANDAMAN AND NICOBAR ISLANDS                   Nicobars   \n",
      "638            639  ANDAMAN AND NICOBAR ISLANDS  North  AND Middle Andaman   \n",
      "639            640  ANDAMAN AND NICOBAR ISLANDS              South Andaman   \n",
      "\n",
      "     Population      Male    Female  Literate  Literate_Male  Literate_Female   \n",
      "0      870354.0  474190.0  396164.0  439654.0       282823.0         156831.0  \\\n",
      "1      753745.0       NaN  355704.0  335649.0       207741.0         127908.0   \n",
      "2      133487.0   78971.0   54516.0   93770.0        62834.0          30936.0   \n",
      "3      140802.0       NaN   63017.0       NaN        56301.0          29935.0   \n",
      "4           NaN  251899.0  224936.0  261724.0       163333.0          98391.0   \n",
      "..          ...       ...       ...       ...            ...              ...   \n",
      "635     41816.0   19143.0   22673.0   36470.0        16610.0          19860.0   \n",
      "636    200222.0   97809.0  102413.0  154916.0        79903.0          75013.0   \n",
      "637     36842.0   20727.0       NaN   25332.0        15397.0           9935.0   \n",
      "638    105597.0   54861.0   50736.0   78683.0        43186.0          35497.0   \n",
      "639         NaN  127283.0  110859.0  190266.0       105794.0          84472.0   \n",
      "\n",
      "          SC  ...  Power_Parity_Rs_90000_150000  Power_Parity_Rs_45000_150000   \n",
      "0     1048.0  ...                          94.0                         588.0  \\\n",
      "1        NaN  ...                         126.0                         562.0   \n",
      "2      488.0  ...                          46.0                         122.0   \n",
      "3       18.0  ...                          27.0                         114.0   \n",
      "4      556.0  ...                          78.0                         346.0   \n",
      "..       ...  ...                           ...                           ...   \n",
      "635    144.0  ...                        2316.0                        4309.0   \n",
      "636  35348.0  ...                        1063.0                        2408.0   \n",
      "637      0.0  ...                         685.0                        1895.0   \n",
      "638      0.0  ...                         685.0                        1895.0   \n",
      "639      0.0  ...                        1371.0                        3020.0   \n",
      "\n",
      "     Power_Parity_Rs_150000_240000  Power_Parity_Rs_240000_330000   \n",
      "0                             71.0                          101.0  \\\n",
      "1                             72.0                           89.0   \n",
      "2                             15.0                           22.0   \n",
      "3                             12.0                           18.0   \n",
      "4                             35.0                           50.0   \n",
      "..                             ...                            ...   \n",
      "635                         1370.0                          838.0   \n",
      "636                          665.0                          340.0   \n",
      "637                          212.0                          134.0   \n",
      "638                          212.0                            NaN   \n",
      "639                          649.0                          368.0   \n",
      "\n",
      "     Power_Parity_Rs_150000_330000  Power_Parity_Rs_330000_425000   \n",
      "0                            172.0                           74.0  \\\n",
      "1                            161.0                           96.0   \n",
      "2                              NaN                           20.0   \n",
      "3                             30.0                           19.0   \n",
      "4                             85.0                           59.0   \n",
      "..                             ...                            ...   \n",
      "635                         2208.0                          576.0   \n",
      "636                         1005.0                          246.0   \n",
      "637                          346.0                           70.0   \n",
      "638                          346.0                           70.0   \n",
      "639                         1017.0                          265.0   \n",
      "\n",
      "     Power_Parity_Rs_425000_545000  Power_Parity_Rs_330000_545000   \n",
      "0                             10.0                           84.0  \\\n",
      "1                             28.0                          124.0   \n",
      "2                              NaN                            NaN   \n",
      "3                              3.0                           22.0   \n",
      "4                              8.0                           67.0   \n",
      "..                             ...                            ...   \n",
      "635                          978.0                         1554.0   \n",
      "636                            NaN                          729.0   \n",
      "637                          120.0                          190.0   \n",
      "638                          120.0                          190.0   \n",
      "639                          497.0                          762.0   \n",
      "\n",
      "     Power_Parity_Above_Rs_545000  Total_Power_Parity  \n",
      "0                            15.0              1119.0  \n",
      "1                            18.0              1066.0  \n",
      "2                            17.0               242.0  \n",
      "3                             7.0               214.0  \n",
      "4                            12.0               629.0  \n",
      "..                            ...                 ...  \n",
      "635                        1446.0             10027.0  \n",
      "636                         341.0              4890.0  \n",
      "637                          84.0              3151.0  \n",
      "638                          84.0              3151.0  \n",
      "639                         376.0              5782.0  \n",
      "\n",
      "[640 rows x 118 columns]\n"
     ]
    }
   ],
   "source": [
    "census_data.rename(columns=column_rename_mapping, inplace=True)\n",
    "print(census_data)"
   ]
  },
  {
   "cell_type": "code",
   "execution_count": null,
   "metadata": {},
   "outputs": [],
   "source": []
  }
 ],
 "metadata": {
  "kernelspec": {
   "display_name": "Python 3",
   "language": "python",
   "name": "python3"
  },
  "language_info": {
   "codemirror_mode": {
    "name": "ipython",
    "version": 3
   },
   "file_extension": ".py",
   "mimetype": "text/x-python",
   "name": "python",
   "nbconvert_exporter": "python",
   "pygments_lexer": "ipython3",
   "version": "3.11.6"
  }
 },
 "nbformat": 4,
 "nbformat_minor": 2
}
